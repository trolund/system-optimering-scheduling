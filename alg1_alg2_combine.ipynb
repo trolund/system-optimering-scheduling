{
 "cells": [
  {
   "cell_type": "code",
   "execution_count": 1,
   "id": "f6393877",
   "metadata": {},
   "outputs": [],
   "source": [
    "import math\n",
    "import copy\n",
    "from task import Task\n",
    "from caseLoader import CaseLoader\n",
    "from taskType import TaskType\n",
    "import random"
   ]
  },
  {
   "cell_type": "code",
   "execution_count": 2,
   "id": "49140c1c",
   "metadata": {},
   "outputs": [],
   "source": [
    "MT = 10 # microtick"
   ]
  },
  {
   "cell_type": "code",
   "execution_count": 3,
   "id": "40b49f8d",
   "metadata": {},
   "outputs": [
    {
     "name": "stdout",
     "output_type": "stream",
     "text": [
      "Searching for test cases at:\n",
      "./test_cases/inf_30_30\n",
      "Loaded case_group: inf_30_30 - case: 0 test case(s).\n"
     ]
    }
   ],
   "source": [
    "loader = CaseLoader()\n",
    "cases = loader.load_test_case(\"inf_30_30\", 0)\n",
    "cases = [c for c in cases if c.type == TaskType.TIME]"
   ]
  },
  {
   "cell_type": "code",
   "execution_count": 4,
   "id": "effbc343",
   "metadata": {},
   "outputs": [],
   "source": [
    "def get_ready(task_set, cycle, ready_list):\n",
    "    for task in task_set:\n",
    "        if cycle % task.period == 0:\n",
    "            new_job = copy.deepcopy(task)\n",
    "            new_job.deadline = new_job.deadline + cycle\n",
    "            new_job.release_time = cycle\n",
    "            ready_list.append(new_job)\n",
    "    \n",
    "    # sort on deadline\n",
    "    # https://www.geeksforgeeks.org/sorting-objects-of-user-defined-class-in-python/\n",
    "    ready_list = sorted(ready_list, key=lambda t: t.deadline) \n",
    "    \n",
    "    return sorted(ready_list, key=lambda t: t.deadline)\n",
    "        \n",
    "\n",
    "# ts is set of TT tasks\n",
    "def edf(ts):\n",
    "    T = math.lcm(2000,3000,4000) # least common multiple of TT task periods. 2000 mt = \n",
    "    S = [] # schedule will be hyperperiod long. 12 000 microticks == 120 000 microsecs == 120 ms\n",
    "    ready_list = []\n",
    "    wcrts = {} # worst case response times\n",
    "\n",
    "    for t in range(0, T*2):\n",
    "        ready_list = get_ready(ts, t, ready_list)\n",
    "        \n",
    "        for task in ready_list:\n",
    "            if task.duration > 0 and task.deadline <= t:\n",
    "                return []\n",
    "        \n",
    "            # job done check response time gt wcrt and remove from ready list\n",
    "            if task.duration == 0 and task.deadline >= t:\n",
    "                response_time = t - task.release_time\n",
    "                \n",
    "                if task.name not in wcrts or response_time >= wcrts[task.name]:\n",
    "                    wcrts[task.name] = response_time\n",
    "                \n",
    "                ready_list.remove(task)\n",
    "                \n",
    "            \n",
    "        if ready_list == []:\n",
    "            S.append(\"IDLE\")\n",
    "            continue\n",
    "        else:\n",
    "            # EDF get next job to execute \n",
    "            S.append(ready_list[0].name)\n",
    "            ready_list[0].duration = ready_list[0].duration - 1\n",
    "    \n",
    "    if ready_list != []:\n",
    "        return [], []\n",
    "    \n",
    "    return S, wcrts"
   ]
  },
  {
   "cell_type": "code",
   "execution_count": 5,
   "id": "95e86169",
   "metadata": {},
   "outputs": [],
   "source": [
    "s, wcrts = edf(cases)"
   ]
  },
  {
   "cell_type": "code",
   "execution_count": 6,
   "id": "d16f1b26",
   "metadata": {
    "scrolled": true
   },
   "outputs": [
    {
     "name": "stdout",
     "output_type": "stream",
     "text": [
      "{'tTT0': 16, 'tTT1': 33, 'tTT4': 39, 'tTT5': 42, 'tTT6': 63, 'tTT11': 81, 'tTT14': 85, 'tTT18': 113, 'tTT21': 125, 'tTT24': 156, 'tTT26': 162, 'tTT27': 171, 'tTT7': 210, 'tTT8': 235, 'tTT9': 286, 'tTT10': 322, 'tTT17': 380, 'tTT19': 439, 'tTT20': 444, 'tTT23': 592, 'tTT25': 594, 'tTT28': 674, 'tTT2': 703, 'tTT3': 704, 'tTT12': 835, 'tTT13': 842, 'tTT15': 859, 'tTT16': 874, 'tTT22': 880, 'tTT29': 884}\n"
     ]
    }
   ],
   "source": [
    "print(wcrts)"
   ]
  },
  {
   "cell_type": "code",
   "execution_count": 7,
   "id": "b1828c28",
   "metadata": {},
   "outputs": [],
   "source": [
    "# problem given as a list of cities and their position given by cartesian coordinates\n",
    "\n",
    "def swap(l, index_1, index_2):\n",
    "    l_copy = l[:] # list passed as reference, work with a copy instead\n",
    "    tmp = l_copy[index_1]\n",
    "    l_copy[index_1] = l[index_2]\n",
    "    l_copy[index_2] = tmp\n",
    "    \n",
    "    return l_copy\n",
    "\n",
    "\n",
    "def cost_edge(x1, x2):\n",
    "    return np.linalg.norm(np.array([x1[0] - x2[0], x1[1] - x2[1]]))\n",
    "\n",
    "# assume element of l has form (ID, [x, y]). Cost is sum of lengths between points. \n",
    "def cost_tour(l):\n",
    "    return sum([cost_edge(l[i][1], l[(i+1) % len(l)][1]) for i in range(len(l))])\n",
    "\n",
    "rand = random.Random()\n",
    "\n",
    "# let neighborhood be defined by the solutions that can be\n",
    "# obtained by swapping two cities in current solution\n",
    "def random_neighbor_solution(l):\n",
    "    length = len(l)\n",
    "    i = rand.randint(0, length-1)\n",
    "    j = rand.randint(0, length-1)\n",
    "    \n",
    "    while i == j:\n",
    "        j = rand.randint(0, length-1)\n",
    "        \n",
    "    return swap(l, i, j)\n",
    "\n",
    "def p(delta, t):\n",
    "    return np.exp( -delta / t )\n",
    "\n",
    "# simulated annealing \n",
    "def sa(s0, t0, a, stopcriterion_sec, neighborhood_f = None, log_costs = False):\n",
    "    # initialize variables\n",
    "    sec0 = int(time.time())\n",
    "    sec_now = int(time.time())\n",
    "    s_best = s0[:]\n",
    "    cost_best = cost_tour(s_best)\n",
    "    s_cur = s0[:]\n",
    "    cost_cur = cost_tour(s_cur)\n",
    "    t = t0\n",
    "    \n",
    "    cost_log = [cost_cur]\n",
    "    \n",
    "    n_solutions = 0\n",
    "    \n",
    "    # does not matter if < or <= if 0 then new solution will be selected no matter what     \n",
    "    while sec_now - sec0 < stopcriterion_sec:\n",
    "        s_tmp = neighborhood_f(s_cur)\n",
    "        cost_tmp = cost_tour(s_tmp)\n",
    "        delta = cost_tmp - cost_cur\n",
    "        \n",
    "        # accept randomly drawn solution from current neighborhood if better or with some probability\n",
    "        if delta <= 0 or p(delta, t) > rand.uniform(0.0, 1.0):\n",
    "            s_cur = s_tmp\n",
    "            cost_cur = cost_tmp\n",
    "            \n",
    "            if log_costs:\n",
    "                cost_log.append(cost_cur)\n",
    "            \n",
    "            # keep track of the best solution \n",
    "            if cost_cur < cost_best:\n",
    "                s_best = s_cur\n",
    "                cost_best = cost_cur\n",
    "                #print(\"new best cost: \", cost_best)\n",
    "                #cost_log.append(cost_best)\n",
    "        \n",
    "        # update temperature \n",
    "        t = t * a\n",
    "        \n",
    "        n_solutions = n_solutions + 1\n",
    "        \n",
    "        # update sec\n",
    "        sec_now = int(time.time())\n",
    "    \n",
    "    return (s_best, cost_best, n_solutions) if log_costs else (s_best, cost_best) \n",
    "    "
   ]
  },
  {
   "cell_type": "code",
   "execution_count": 18,
   "id": "8413be9c",
   "metadata": {},
   "outputs": [],
   "source": [
    "#Schedulability of ET tasks under a given polling task\n",
    "\n",
    "#Data:\n",
    "#polling task budget: Cp\n",
    "#polling task period: Tp\n",
    "#polling task deadline: Dp\n",
    "#subset of ET tasks to check Tau^ET (T_ET)\n",
    "#pi = priority\n",
    "#Ci = Computation time?\n",
    "#ti = task period (tuple)\n",
    "\n",
    "#result: small_tau (Boolean)\n",
    "\n",
    "####\n",
    "\n",
    "def unpack(task):\n",
    "    return (task.priority, task.duration, task.period, task.deadline)\n",
    "\n",
    "def calculate_schedulabiltiy(Tp, Dp, Cp, task_periods):\n",
    "    #compute delta and alpha accordingly to [2]\n",
    "    Delta = Tp + Dp - 2*Cp\n",
    "    alpha = Cp/Tp\n",
    "    \n",
    "    #hyperperiod is lcm of all task periods in T_ET (all values must be from the chosen subset of ET tasks from the .csv)\n",
    "    periods = []\n",
    "    for task in task_periods:\n",
    "        (pi, Ci, Ti, Di) = unpack(task)\n",
    "        periods.append(Ti)\n",
    "\n",
    "    hyperperiod = math.lcm(*periods)\n",
    "\n",
    "    #loop\n",
    "    for task_period in task_periods:\n",
    "        (pi, Ci, Ti, Di) = unpack(task_period)\n",
    "        t = 0\n",
    "        #initialize the response time of ti (task period) to a value exceeding the deadline\n",
    "        response_time = Di + 1\n",
    "\n",
    "        #remember we are dealing with constrained deadline tasks for the AdvPoll, hence, in the worst case arrival pattern, the intersection must lie within the hyperperiod if the task is schedulable\n",
    "\n",
    "        while t <= hyperperiod:\n",
    "            #the supply at time t ([1])\n",
    "            supply = alpha*(t-Delta)\n",
    "\n",
    "            #compute the maximum demand at time t according to Eq. 2\n",
    "            demand = 0\n",
    "            for tj in task_periods:\n",
    "                (pj, Cj, Tj, Dj) = unpack(tj)\n",
    "\n",
    "                if pj >= pi:\n",
    "                    demand  = demand + math.ceil(t/Tj)*Cj\n",
    "            \n",
    "            #According to lemma 1 of [1], we are searching for the earliest time, when the supply exceeds the demand\n",
    "            if supply >= demand:\n",
    "                response_time = t\n",
    "                break\n",
    "            \n",
    "            t = t +1\n",
    "        \n",
    "            if response_time >= Di:\n",
    "                return False\n",
    "        \n",
    "    return True\n"
   ]
  },
  {
   "cell_type": "code",
   "execution_count": 9,
   "id": "3d487113",
   "metadata": {},
   "outputs": [],
   "source": [
    "\"\"\"\n",
    "Determine: You will have to design and implement an optimization algorithm that\n",
    "determines an optimized solution which consists of the following: (i) The number of polling\n",
    "servers, which then become extra TT tasks. (ii) For each polling server (task), the period,\n",
    "budget, and deadline, as well as (iii) which sub-sets of ET tasks are handled within the\n",
    "respective polling servers. Moreover, the TT tasks also need to be schedulable, i.e., given the\n",
    "found polling tasks (and their parameters), it shall be possible to find (iv) a TT schedule\n",
    "such that also the TT tasks are schedulable\n",
    "\n",
    "\"\"\"\n",
    "\n",
    "\n",
    "NUM_PS = 0\n",
    "BUDGET = 1\n",
    "PERIOD = 2\n",
    "DEADLINE = 3\n",
    "SUBSET = 4\n",
    "\n",
    "# get a subset of pses from victim and delete these from victim\n",
    "# -2 as to not steal all :)\n",
    "def get_subset(s, victim_ps):\n",
    "    num_et_tasks = rand.randint(0, len(victim_ps.et_subset)-2)\n",
    "    new_ps_et_subset = []\n",
    "        \n",
    "    for i in range(num_et_tasks):\n",
    "        new_ps_et_subset.append(victim_ps.et_subset[i])\n",
    "        del victim_ps.et_subset[i]\n",
    "\n",
    "    return new_ps_et_subset\n",
    "    \n",
    "# take polling servers as arg, \n",
    "def neighborhood(s, cycle):\n",
    "    # select randomly a ps then randomly choose to change:\n",
    "        # num_ps, period, budget, deadline or subset of et_tasks\n",
    "        # et_tasks will have to take some from another/give \n",
    "        # do not worry whether newly generated solution is feasible \n",
    "        # return new solution \n",
    "    \n",
    "    # num_ps, period, budget, deadline, subset\n",
    "    \n",
    "    # select ps\n",
    "    ps = rand.randint(0, len(s)-1)\n",
    "    \n",
    "    parameter = rand.randint(0, 4)\n",
    "    \n",
    "    victim_ps_i = rand.randint(0,len(ps) - 1) # victim to change etc.\n",
    "    sign = 1 if rand.randint(0,1) == 0 else -1\n",
    "    \n",
    "    if parameter == NUM_PS:\n",
    "        new_ps_et_subset = get_subset(s, s[victim_ps_i])\n",
    "        new_ps = Task(\"tTT\" + str(cycle), 1000, 1000, TaskType.TIME, 7, 1000, new_ps_et_subset)\n",
    "        \n",
    "        return s + [new_ps]\n",
    "    \n",
    "    elif parameter == BUDGET:\n",
    "        victim_ps.duration = ps.duration + sign * (cycle % 101)\n",
    "    elif parameter == PERIOD:\n",
    "        victim_ps.period = ps.period + sign * (cycle % 101)\n",
    "    elif parameter == DEADLINE:\n",
    "        victim_ps.deadline = ps.deadline + sign * (cycle % 101)\n",
    "    elif parameter == SUBSET:\n",
    "        other_ps_victim_i = rand.randint(0, len(ps) - 1)\n",
    "        \n",
    "        while other_ps_victim_i == victim_ps_i:\n",
    "            other_ps_victim_i = rand.randint(0, len(ps) - 1)\n",
    "            \n",
    "        new_ps_et_subset = get_subset(s, s[other_victim_ps_i])\n",
    "        \n",
    "        s[victim_ps_i].et_subset += new_ps_et_subset\n",
    "        \n",
    "    return s\n",
    "    \n",
    "        \n",
    "        "
   ]
  },
  {
   "cell_type": "code",
   "execution_count": 10,
   "id": "d3487983",
   "metadata": {},
   "outputs": [
    {
     "data": {
      "text/plain": [
       "0"
      ]
     },
     "execution_count": 10,
     "metadata": {},
     "output_type": "execute_result"
    }
   ],
   "source": [
    "rand.randint(0,1)"
   ]
  },
  {
   "cell_type": "code",
   "execution_count": 11,
   "id": "9eaf30a9",
   "metadata": {},
   "outputs": [
    {
     "data": {
      "text/plain": [
       "1"
      ]
     },
     "execution_count": 11,
     "metadata": {},
     "output_type": "execute_result"
    }
   ],
   "source": [
    "def lars(a, b=None):\n",
    "    return a\n",
    "\n",
    "lars(1)"
   ]
  },
  {
   "cell_type": "code",
   "execution_count": 12,
   "id": "9b432787",
   "metadata": {},
   "outputs": [
    {
     "data": {
      "text/plain": [
       "24000"
      ]
     },
     "execution_count": 12,
     "metadata": {},
     "output_type": "execute_result"
    }
   ],
   "source": [
    "len(s)"
   ]
  },
  {
   "cell_type": "code",
   "execution_count": 13,
   "id": "85ecee12",
   "metadata": {},
   "outputs": [],
   "source": [
    "s1 = s[0:int(len(s)/2)]\n",
    "s2 = s[int(len(s)/2):]\n",
    "\n",
    "for i, j in zip(s1,s2):\n",
    "    if s1 != s2:\n",
    "        print(\"FAIL\")"
   ]
  },
  {
   "cell_type": "code",
   "execution_count": 14,
   "id": "d82f8358",
   "metadata": {},
   "outputs": [
    {
     "name": "stdout",
     "output_type": "stream",
     "text": [
      "Searching for test cases at:\n",
      "./test_cases/inf_30_30\n",
      "Loaded case_group: inf_30_30 - case: 0 test case(s).\n"
     ]
    }
   ],
   "source": [
    "loader = CaseLoader()\n",
    "ets = loader.load_test_case(\"inf_30_30\", 0)\n",
    "ets = [c for c in ets if c.type == TaskType.EVENT]"
   ]
  },
  {
   "cell_type": "code",
   "execution_count": null,
   "id": "cf467c9c",
   "metadata": {},
   "outputs": [],
   "source": []
  },
  {
   "cell_type": "code",
   "execution_count": 19,
   "id": "9abc4949",
   "metadata": {},
   "outputs": [
    {
     "ename": "KeyboardInterrupt",
     "evalue": "",
     "output_type": "error",
     "traceback": [
      "\u001b[0;31m---------------------------------------------------------------------------\u001b[0m",
      "\u001b[0;31mKeyboardInterrupt\u001b[0m                         Traceback (most recent call last)",
      "Input \u001b[0;32mIn [19]\u001b[0m, in \u001b[0;36m<cell line: 2>\u001b[0;34m()\u001b[0m\n\u001b[1;32m      1\u001b[0m cnt \u001b[38;5;241m=\u001b[39m \u001b[38;5;241m0\u001b[39m\n\u001b[1;32m      2\u001b[0m \u001b[38;5;28;01mfor\u001b[39;00m i \u001b[38;5;129;01min\u001b[39;00m \u001b[38;5;28mrange\u001b[39m(\u001b[38;5;241m1\u001b[39m, \u001b[38;5;241m5000\u001b[39m):\n\u001b[0;32m----> 3\u001b[0m     \u001b[38;5;28;01mif\u001b[39;00m \u001b[43mcalculate_schedulabiltiy\u001b[49m\u001b[43m(\u001b[49m\u001b[43mi\u001b[49m\u001b[43m,\u001b[49m\u001b[43mi\u001b[49m\u001b[43m,\u001b[49m\u001b[43mi\u001b[49m\u001b[43m,\u001b[49m\u001b[43m \u001b[49m\u001b[43mets\u001b[49m\u001b[43m)\u001b[49m:\n\u001b[1;32m      4\u001b[0m         cnt \u001b[38;5;241m+\u001b[39m\u001b[38;5;241m=\u001b[39m \u001b[38;5;241m1\u001b[39m\n",
      "Input \u001b[0;32mIn [18]\u001b[0m, in \u001b[0;36mcalculate_schedulabiltiy\u001b[0;34m(Tp, Dp, Cp, task_periods)\u001b[0m\n\u001b[1;32m     39\u001b[0m \u001b[38;5;66;03m#remember we are dealing with constrained deadline tasks for the AdvPoll, hence, in the worst case arrival pattern, the intersection must lie within the hyperperiod if the task is schedulable\u001b[39;00m\n\u001b[1;32m     41\u001b[0m \u001b[38;5;28;01mwhile\u001b[39;00m t \u001b[38;5;241m<\u001b[39m\u001b[38;5;241m=\u001b[39m hyperperiod:\n\u001b[1;32m     42\u001b[0m     \u001b[38;5;66;03m#the supply at time t ([1])\u001b[39;00m\n\u001b[0;32m---> 43\u001b[0m     supply \u001b[38;5;241m=\u001b[39m alpha\u001b[38;5;241m*\u001b[39m(\u001b[43mt\u001b[49m\u001b[38;5;241;43m-\u001b[39;49m\u001b[43mDelta\u001b[49m)\n\u001b[1;32m     45\u001b[0m     \u001b[38;5;66;03m#compute the maximum demand at time t according to Eq. 2\u001b[39;00m\n\u001b[1;32m     46\u001b[0m     demand \u001b[38;5;241m=\u001b[39m \u001b[38;5;241m0\u001b[39m\n",
      "\u001b[0;31mKeyboardInterrupt\u001b[0m: "
     ]
    }
   ],
   "source": [
    "cnt = 0\n",
    "for i in range(1, 5000):\n",
    "    if calculate_schedulabiltiy(i,i,i, ets):\n",
    "        cnt += 1"
   ]
  },
  {
   "cell_type": "code",
   "execution_count": null,
   "id": "970de837",
   "metadata": {},
   "outputs": [],
   "source": [
    "cnt"
   ]
  },
  {
   "cell_type": "code",
   "execution_count": null,
   "id": "8b44e910",
   "metadata": {},
   "outputs": [],
   "source": []
  }
 ],
 "metadata": {
  "kernelspec": {
   "display_name": "Python 3 (ipykernel)",
   "language": "python",
   "name": "python3"
  },
  "language_info": {
   "codemirror_mode": {
    "name": "ipython",
    "version": 3
   },
   "file_extension": ".py",
   "mimetype": "text/x-python",
   "name": "python",
   "nbconvert_exporter": "python",
   "pygments_lexer": "ipython3",
   "version": "3.9.12"
  }
 },
 "nbformat": 4,
 "nbformat_minor": 5
}
