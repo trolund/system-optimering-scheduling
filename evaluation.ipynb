{
 "cells": [
  {
   "cell_type": "code",
   "execution_count": 6,
   "metadata": {},
   "outputs": [
    {
     "name": "stdout",
     "output_type": "stream",
     "text": [
      "Searching for test cases at:\n",
      "./test cases\n",
      "Loaded 34 test case(s).\n"
     ]
    }
   ],
   "source": [
    "from caseLoader import CaseLoader\n",
    "\n",
    "loader = CaseLoader()\n",
    "cases = loader.load_test_case()"
   ]
  },
  {
   "cell_type": "code",
   "execution_count": 5,
   "outputs": [
    {
     "name": "stdout",
     "output_type": "stream",
     "text": [
      "Searching for test cases at:\n",
      "./test_cases/inf_30_30\n",
      "50\n"
     ]
    }
   ],
   "source": [
    "from caseLoader import CaseLoader\n",
    "\n",
    "loader = CaseLoader()\n",
    "cases = loader.load_test_case(\"inf_30_30\", 1)\n",
    "\n",
    "print(cases)"
   ],
   "metadata": {
    "collapsed": false
   }
  },
  {
   "cell_type": "code",
   "execution_count": 8,
   "outputs": [
    {
     "name": "stdout",
     "output_type": "stream",
     "text": [
      "Searching for test cases at:\n",
      "./test cases/inf_30_31\n",
      "./test cases/inf_30_31 does not exist.\n"
     ]
    }
   ],
   "source": [
    "from caseLoader import CaseLoader\n",
    "\n",
    "loader = CaseLoader()\n",
    "cases = loader.load_test_case(\"inf_30_31\")"
   ],
   "metadata": {
    "collapsed": false
   }
  }
 ],
 "metadata": {
  "kernelspec": {
   "display_name": "Python 3 (ipykernel)",
   "language": "python",
   "name": "python3"
  },
  "language_info": {
   "codemirror_mode": {
    "name": "ipython",
    "version": 3
   },
   "file_extension": ".py",
   "mimetype": "text/x-python",
   "name": "python",
   "nbconvert_exporter": "python",
   "pygments_lexer": "ipython3",
   "version": "3.8.9"
  }
 },
 "nbformat": 4,
 "nbformat_minor": 1
}
