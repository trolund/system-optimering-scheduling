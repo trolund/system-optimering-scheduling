{
 "cells": [
  {
   "cell_type": "code",
   "execution_count": 1,
   "id": "f6393877",
   "metadata": {},
   "outputs": [],
   "source": [
    "import math\n",
    "import copy\n",
    "from task import Task\n",
    "from caseLoader import CaseLoader\n",
    "from taskType import TaskType\n",
    "import random\n",
    "import time\n",
    "import numpy as np\n",
    "import matplotlib.pyplot as plt\n",
    "from functools import reduce"
   ]
  },
  {
   "cell_type": "code",
   "execution_count": 2,
   "id": "49140c1c",
   "metadata": {},
   "outputs": [],
   "source": [
    "MT = 10 # microtick"
   ]
  },
  {
   "cell_type": "code",
   "execution_count": 3,
   "id": "40b49f8d",
   "metadata": {},
   "outputs": [
    {
     "name": "stdout",
     "output_type": "stream",
     "text": [
      "Searching for test cases at:\n",
      "./test_cases/inf_30_30\n",
      "Loaded case_group: inf_30_30 - case: 0 test case(s).\n"
     ]
    }
   ],
   "source": [
    "loader = CaseLoader()\n",
    "cases = loader.load_test_case(\"inf_30_30\", 0)\n",
    "cases = [c for c in cases if c.type == TaskType.TIME]"
   ]
  },
  {
   "cell_type": "code",
   "execution_count": 4,
   "id": "effbc343",
   "metadata": {},
   "outputs": [],
   "source": [
    "def get_ready(task_set, cycle, ready_list):\n",
    "    for task in task_set:\n",
    "        if cycle % task.period == 0:\n",
    "            new_job = copy.deepcopy(task)\n",
    "            new_job.deadline = new_job.deadline + cycle\n",
    "            new_job.release_time = cycle\n",
    "            ready_list.append(new_job)\n",
    "    \n",
    "    # sort on deadline\n",
    "    # https://www.geeksforgeeks.org/sorting-objects-of-user-defined-class-in-python/\n",
    "    ready_list = sorted(ready_list, key=lambda t: t.deadline) \n",
    "    \n",
    "    return ready_list\n",
    "        \n",
    "\n",
    "# ts is set of TT tasks\n",
    "def edf(ts):\n",
    "    T = math.lcm(2000,3000,4000) # least common multiple of TT task periods. 2000 mt = \n",
    "    S = [] # schedule will be hyperperiod long. 12 000 microticks == 120 000 microsecs == 120 ms\n",
    "    ready_list = []\n",
    "    wcrts = {} # worst case response times\n",
    "    \n",
    "    # overvej reset funktioner i task klassen istedet for alle de kopier...\n",
    "    for t in range(0, T):\n",
    "        ready_list = get_ready(ts, t, ready_list)\n",
    "        \n",
    "        for task in ready_list:\n",
    "            if task.duration > 0 and task.deadline <= t:\n",
    "                return [], -1\n",
    "        \n",
    "            # job done check response time gt wcrt and remove from ready list\n",
    "            if task.duration == 0 and task.deadline >= t:\n",
    "                response_time = t - task.release_time\n",
    "                \n",
    "                if task.name not in wcrts or response_time >= wcrts[task.name]:\n",
    "                    wcrts[task.name] = response_time\n",
    "                \n",
    "                ready_list.remove(task)\n",
    "                \n",
    "            \n",
    "        if ready_list == []:\n",
    "            S.append(\"IDLE\")\n",
    "            continue\n",
    "        else:\n",
    "            # EDF get next job to execute \n",
    "            S.append(ready_list[0].name)\n",
    "            ready_list[0].duration = ready_list[0].duration - 1\n",
    "    \n",
    "    if ready_list != []:\n",
    "        return [], wcrts\n",
    "    \n",
    "    return S, wcrts"
   ]
  },
  {
   "cell_type": "code",
   "execution_count": 5,
   "id": "95e86169",
   "metadata": {},
   "outputs": [],
   "source": [
    "s, wcrts = edf(cases)"
   ]
  },
  {
   "cell_type": "code",
   "execution_count": 6,
   "id": "d16f1b26",
   "metadata": {
    "scrolled": false
   },
   "outputs": [
    {
     "name": "stdout",
     "output_type": "stream",
     "text": [
      "11843\n",
      "{'tTT0': 16, 'tTT1': 33, 'tTT4': 39, 'tTT5': 42, 'tTT6': 63, 'tTT11': 81, 'tTT14': 85, 'tTT18': 113, 'tTT21': 125, 'tTT24': 156, 'tTT26': 162, 'tTT27': 171, 'tTT7': 210, 'tTT8': 235, 'tTT9': 286, 'tTT10': 322, 'tTT17': 380, 'tTT19': 439, 'tTT20': 444, 'tTT23': 592, 'tTT25': 594, 'tTT28': 674, 'tTT2': 703, 'tTT3': 704, 'tTT12': 835, 'tTT13': 842, 'tTT15': 859, 'tTT16': 874, 'tTT22': 880, 'tTT29': 884}\n",
      "tTT0 2000\n"
     ]
    }
   ],
   "source": [
    "print(sum([wcrts[key] for key in wcrts]))\n",
    "print(wcrts)\n",
    "print(cases[0].name, cases[0].period)"
   ]
  },
  {
   "cell_type": "code",
   "execution_count": 7,
   "id": "24eb50a8",
   "metadata": {},
   "outputs": [
    {
     "data": {
      "text/plain": [
       "[16, 16, 16, 16, 16, 16]"
      ]
     },
     "execution_count": 7,
     "metadata": {},
     "output_type": "execute_result"
    }
   ],
   "source": [
    "def check_wcrts(name, schedule, period):\n",
    "    cnt = 0\n",
    "    l = []\n",
    "    for i,job in enumerate(schedule):\n",
    "        if job == name and schedule[i+1] == name and (i+1) % period != 0:\n",
    "            cnt +=1\n",
    "        elif job == name and schedule[i+1] != name:\n",
    "            l.append(cnt+1)\n",
    "        else:\n",
    "            cnt = 0\n",
    "    return l\n",
    "\n",
    "check_wcrts('tTT0', s, 2000)"
   ]
  },
  {
   "cell_type": "code",
   "execution_count": 46,
   "id": "b72b850d",
   "metadata": {},
   "outputs": [],
   "source": [
    "\"\"\"\n",
    "Determine: You will have to design and implement an optimization algorithm that\n",
    "determines an optimized solution which consists of the following: (i) The number of polling\n",
    "servers, which then become extra TT tasks. (ii) For each polling server (task), the period,\n",
    "budget, and deadline, as well as (iii) which sub-sets of ET tasks are handled within the\n",
    "respective polling servers. Moreover, the TT tasks also need to be schedulable, i.e., given the\n",
    "found polling tasks (and their parameters), it shall be possible to find (iv) a TT schedule\n",
    "such that also the TT tasks are schedulable\n",
    "\n",
    "\"\"\"\n",
    "\n",
    "NUM_PS = 0\n",
    "BUDGET = 1\n",
    "PERIOD = 2\n",
    "DEADLINE = 3\n",
    "SUBSET = 4\n",
    "\n",
    "# get a subset of pses from victim and delete these from victim\n",
    "# -1 to not steal all, max (1, otherthing) to not get rand(1, -x)\n",
    "def get_subset(s, victim_ps):\n",
    "    num_et_tasks = rand.randint(1, max(1, len(victim_ps.et_subset) - 1)) \n",
    "    new_ps_et_subset = []\n",
    "        \n",
    "    for task in victim_ps.et_subset[0:num_et_tasks]:\n",
    "        new_ps_et_subset.append(task)\n",
    "        victim_ps.et_subset.remove(task)\n",
    "        \n",
    "    return new_ps_et_subset\n",
    "    \n",
    "# take polling servers as arg, \n",
    "def neighborhood(polling_servers_):\n",
    "    # select randomly a ps then randomly choose to change:\n",
    "        # num_ps, period, budget, deadline or subset of et_tasks\n",
    "        # et_tasks will have to take some from another/give \n",
    "        # do not worry whether newly generated solution is feasible \n",
    "        # return new solution \n",
    "    \n",
    "    # num_ps, period, budget, deadline, subset\n",
    "    \n",
    "    polling_servers = copy.deepcopy(polling_servers_)\n",
    "    print(polling_servers[0].name)\n",
    "    \n",
    "    # select parameter to change   \n",
    "    parameter = rand.randint(0, 4)\n",
    "    \n",
    "    # sel\n",
    "    victim_ps = polling_servers[rand.randint(0,len(polling_servers)) % len(polling_servers)] # victim to change etc.\n",
    "    \n",
    "    # increase or decrease chosen parameter\n",
    "    sign = 1 if rand.randint(0,1) == 0 else -1\n",
    "    \n",
    "    # only adds a polling server. add functionality to remove one and move et subset to other ps\n",
    "    if parameter == NUM_PS:\n",
    "        new_ps_et_subset = get_subset(polling_servers, victim_ps)\n",
    "        new_ps = Task(\"tTT\" + str(rand.randint(0,5000)), 1000, 1000, TaskType.TIME, 7, 1000, new_ps_et_subset)\n",
    "        \n",
    "        return polling_servers + [new_ps]\n",
    "    \n",
    "    elif parameter == BUDGET:\n",
    "        victim_ps.duration = max(50, victim_ps.duration + sign * 50)\n",
    "        victim_ps.duration = 1 if victim_ps.duration == 0 else victim_ps.duration\n",
    "    elif parameter == PERIOD:\n",
    "        victim_ps.period = max(50, victim_ps.period + sign * 50)\n",
    "        victim_ps.period = 1 if victim_ps.period == 0 else victim_ps.period\n",
    "    elif parameter == DEADLINE:\n",
    "        victim_ps.deadline = max(50, victim_ps.deadline + sign * 50)\n",
    "    elif parameter == SUBSET:\n",
    "        if len(polling_servers) == 1: # if no one to steal from \n",
    "            return polling_servers \n",
    "        other_ps_victim = polling_servers[rand.randint(0, len(polling_servers)) % len(polling_servers)]\n",
    "\n",
    "        while other_ps_victim == victim_ps:\n",
    "            other_ps_victim = polling_servers[rand.randint(0, len(polling_servers)) % len(polling_servers)]\n",
    "            \n",
    "        new_ps_et_subset = get_subset(polling_servers, other_ps_victim)\n",
    "        \n",
    "        victim_ps.et_subset += new_ps_et_subset\n",
    "        \n",
    "    return polling_servers"
   ]
  },
  {
   "cell_type": "code",
   "execution_count": 47,
   "id": "b0b86773",
   "metadata": {},
   "outputs": [],
   "source": [
    "\n",
    "rand = random.Random()\n",
    "    \n",
    "def p(delta, t):\n",
    "    return np.exp( -delta / t )\n",
    "\n",
    "# simulated annealing \n",
    "def sa(s0, t, a, stopcriterion_sec, neighborhood_f = None, cost_f1=None, cost_f2=None, log_costs = False):\n",
    "    # initialize variables\n",
    "    sec0 = int(time.time())\n",
    "    sec_now = int(time.time())\n",
    "    \n",
    "    # get tt and et tasks\n",
    "    tt = [t for t in s0 if t.type == TaskType.TIME]\n",
    "    et = [t for t in s0 if t.type == TaskType.EVENT]\n",
    "    \n",
    "    # initialize a single polling server\n",
    "    polling_servers = [Task(\"tTTps00\", 1000, 1000, TaskType.TIME, 7, 1000, et_subset=et[:])]\n",
    "    \n",
    "    # best solution\n",
    "    s_best = []\n",
    "    cost_best = float('inf') # hmm :)\n",
    "    best_ps_config = []\n",
    "\n",
    "    # current solution, used in loop\n",
    "    s_cur = tt[:]\n",
    "    cost_cur = float('inf')\n",
    "    \n",
    "    # 1 entry pr. cycle in hyperperiod\n",
    "    schedule = []\n",
    "    \n",
    "    # for logging purposes\n",
    "    n_solutions = 0\n",
    "    cost_log = []\n",
    "    \n",
    "    # does not matter if < or <= if 0 then new solution will be selected no matter what     \n",
    "    while int(time.time()) - sec0 < stopcriterion_sec:\n",
    "        ps_tmp = neighborhood_f(polling_servers)\n",
    "        \n",
    "        # https://www.geeksforgeeks.org/reduce-in-python/\n",
    "        # create list of bools by applying schedulability check for ets, fold into single bool using and.\n",
    "        is_schedulable = reduce((lambda a, b : a and b), [cost_f2(ps, ps.et_subset) for ps in ps_tmp])\n",
    "        \n",
    "        # if not schedulable skip iteration\n",
    "        if not is_schedulable:\n",
    "            continue \n",
    "        \n",
    "        # get schedule and wcrts of each tt\n",
    "        schedule_tmp, cost_tmp_dict = cost_f1(tt + ps_tmp)\n",
    "        \n",
    "        # -1 returned in case not schedulable\n",
    "        if cost_tmp_dict == -1:\n",
    "            continue\n",
    "        \n",
    "        # add wcrts... might wanna reconsider this\n",
    "        cost_tmp = sum([cost_tmp_dict[key] for key in cost_tmp_dict])\n",
    "        \n",
    "        delta = cost_tmp - cost_cur\n",
    "        \n",
    "        n_solutions = n_solutions + 1\n",
    "        \n",
    "        # accept randomly drawn solution from current neighborhood if better or with some probability\n",
    "        if delta <= 0 or p(delta, t) > rand.uniform(0.0, 1.0):\n",
    "            s_cur = tt + ps_tmp # update current solution, current set of polling servers, costs & schedule\n",
    "            polling_servers = ps_tmp[:] # all these copies...\n",
    "            cost_cur = cost_tmp\n",
    "            schedule = schedule_tmp[:]\n",
    "            \n",
    "            if log_costs: # logging\n",
    "                cost_log.append(cost_cur)\n",
    "            \n",
    "            # keep track of the best solution \n",
    "            if cost_cur < cost_best:\n",
    "                s_best = s_cur\n",
    "                best_schedule = schedule[:]\n",
    "                cost_best = cost_cur\n",
    "                best_ps_config = polling_servers\n",
    "                        \n",
    "        # update temperature \n",
    "        t = t * a\n",
    "        \n",
    "        \n",
    "        \n",
    "        # update sec\n",
    "        #sec_now = int(time.time())\n",
    "        \n",
    "    return (schedule, cost_best, cost_log, best_ps_config) if log_costs else (schedule, cost_best, best_ps,config) \n",
    "    "
   ]
  },
  {
   "cell_type": "code",
   "execution_count": 48,
   "id": "004387ea",
   "metadata": {},
   "outputs": [],
   "source": [
    "def unpack(task):\n",
    "    return (task.priority, task.duration, task.period, task.deadline)\n",
    "\n",
    "#Schedulability of ET tasks under a given polling task\n",
    "def calculate_schedulabiltiy(ps, task_periods):\n",
    "    Tp = ps.period\n",
    "    Dp = ps.deadline\n",
    "    Cp = ps.duration\n",
    "    \n",
    "    #compute delta and alpha accordingly to [2]\n",
    "    Delta = Tp + Dp - 2*Cp\n",
    "    alpha = Cp/Tp\n",
    "    \n",
    "    #hyperperiod is lcm of all task periods in T_ET (all values must be from the chosen subset of ET tasks from the .csv)\n",
    "    periods = []\n",
    "    for task in task_periods:\n",
    "        (pi, Ci, Ti, Di) = unpack(task)\n",
    "        periods.append(Ti)\n",
    "\n",
    "    hyperperiod = math.lcm(*periods)    \n",
    "\n",
    "    #loop\n",
    "    for task_period in task_periods:\n",
    "        (pi, Ci, Ti, Di) = unpack(task_period)\n",
    "        t = 0\n",
    "        #initialize the response time of ti (task period) to a value exceeding the deadline\n",
    "        response_time = Di + 1\n",
    "\n",
    "        #remember we are dealing with constrained deadline tasks for the AdvPoll, hence, in the worst case arrival pattern, the intersection must lie within the hyperperiod if the task is schedulable\n",
    "\n",
    "        while t <= hyperperiod:\n",
    "            #the supply at time t ([1])\n",
    "            supply = alpha*(t-Delta)\n",
    "\n",
    "            #compute the maximum demand at time t according to Eq. 2\n",
    "            demand = 0\n",
    "            for tj in task_periods:\n",
    "                (pj, Cj, Tj, Dj) = unpack(tj)\n",
    "\n",
    "                if pj >= pi:\n",
    "                    demand  = demand + math.ceil(t/Tj)*Cj\n",
    "            \n",
    "            #According to lemma 1 of [1], we are searching for the earliest time, when the supply exceeds the demand\n",
    "            if supply >= demand:\n",
    "                response_time = t\n",
    "                break\n",
    "            \n",
    "            t = t + 1\n",
    "        \n",
    "        if response_time > Di:\n",
    "            return False\n",
    "        \n",
    "    return True\n"
   ]
  },
  {
   "cell_type": "code",
   "execution_count": 49,
   "id": "38611010",
   "metadata": {},
   "outputs": [
    {
     "name": "stdout",
     "output_type": "stream",
     "text": [
      "Searching for test cases at:\n",
      "./test_cases/inf_30_30\n",
      "Loaded case_group: inf_30_30 - case: 0 test case(s).\n"
     ]
    }
   ],
   "source": [
    "loader = CaseLoader()\n",
    "tasks = loader.load_test_case(\"inf_30_30\", 0)"
   ]
  },
  {
   "cell_type": "code",
   "execution_count": 50,
   "id": "eb5f0dc3",
   "metadata": {},
   "outputs": [
    {
     "name": "stdout",
     "output_type": "stream",
     "text": [
      "tTTps00\n",
      "tTTps00\n",
      "tTTps00\n",
      "tTTps00\n",
      "tTTps00\n",
      "tTTps00\n",
      "tTTps00\n",
      "tTTps00\n",
      "tTTps00\n",
      "tTTps00\n",
      "tTTps00\n",
      "tTTps00\n",
      "tTTps00\n",
      "tTTps00\n",
      "tTTps00\n",
      "tTTps00\n",
      "tTTps00\n",
      "tTTps00\n",
      "tTTps00\n",
      "tTTps00\n",
      "tTTps00\n",
      "tTTps00\n",
      "tTTps00\n",
      "tTTps00\n",
      "tTTps00\n",
      "tTTps00\n",
      "tTTps00\n",
      "tTTps00\n",
      "tTTps00\n",
      "tTTps00\n",
      "tTTps00\n",
      "tTTps00\n",
      "tTTps00\n",
      "tTTps00\n",
      "tTTps00\n",
      "tTTps00\n",
      "tTTps00\n",
      "tTTps00\n",
      "tTTps00\n",
      "tTTps00\n",
      "tTTps00\n",
      "tTTps00\n",
      "tTTps00\n",
      "tTTps00\n",
      "tTTps00\n",
      "tTTps00\n",
      "tTTps00\n",
      "tTTps00\n",
      "tTTps00\n",
      "tTTps00\n",
      "tTTps00\n",
      "tTTps00\n",
      "tTTps00\n",
      "tTTps00\n",
      "tTTps00\n",
      "tTTps00\n",
      "tTTps00\n",
      "tTTps00\n",
      "tTTps00\n",
      "tTTps00\n",
      "tTTps00\n",
      "tTTps00\n",
      "tTTps00\n",
      "tTTps00\n",
      "tTTps00\n",
      "tTTps00\n",
      "tTTps00\n",
      "tTTps00\n",
      "tTTps00\n",
      "tTTps00\n",
      "tTTps00\n",
      "tTTps00\n",
      "tTTps00\n",
      "tTTps00\n",
      "tTTps00\n",
      "tTTps00\n",
      "tTTps00\n",
      "tTTps00\n",
      "tTTps00\n",
      "tTTps00\n",
      "tTTps00\n",
      "tTTps00\n",
      "tTTps00\n",
      "tTTps00\n",
      "tTTps00\n",
      "tTTps00\n",
      "tTTps00\n",
      "tTTps00\n",
      "tTTps00\n",
      "tTTps00\n",
      "tTTps00\n",
      "tTTps00\n",
      "tTTps00\n",
      "tTTps00\n",
      "tTTps00\n",
      "tTTps00\n",
      "tTTps00\n",
      "tTTps00\n",
      "tTTps00\n",
      "tTTps00\n",
      "tTTps00\n",
      "tTTps00\n",
      "tTTps00\n",
      "tTTps00\n",
      "tTTps00\n",
      "tTTps00\n",
      "tTTps00\n",
      "tTTps00\n",
      "tTTps00\n",
      "tTTps00\n",
      "tTTps00\n",
      "tTTps00\n",
      "tTTps00\n",
      "tTTps00\n",
      "tTTps00\n",
      "tTTps00\n",
      "tTTps00\n",
      "tTTps00\n",
      "tTTps00\n",
      "tTTps00\n",
      "tTTps00\n",
      "tTTps00\n",
      "tTTps00\n",
      "tTTps00\n",
      "tTTps00\n",
      "tTTps00\n",
      "tTTps00\n",
      "tTTps00\n",
      "tTTps00\n",
      "tTTps00\n",
      "tTTps00\n",
      "tTTps00\n",
      "tTTps00\n",
      "tTTps00\n",
      "tTTps00\n",
      "tTTps00\n",
      "tTTps00\n",
      "tTTps00\n",
      "tTTps00\n",
      "tTTps00\n",
      "tTTps00\n",
      "tTTps00\n",
      "tTTps00\n",
      "tTTps00\n",
      "tTTps00\n",
      "tTTps00\n",
      "tTTps00\n",
      "tTTps00\n",
      "tTTps00\n",
      "tTTps00\n",
      "tTTps00\n",
      "tTTps00\n",
      "tTTps00\n",
      "tTTps00\n",
      "tTTps00\n",
      "tTTps00\n",
      "tTTps00\n",
      "tTTps00\n",
      "tTTps00\n",
      "tTTps00\n",
      "tTTps00\n",
      "tTTps00\n",
      "tTTps00\n",
      "tTTps00\n",
      "tTTps00\n",
      "tTTps00\n",
      "tTTps00\n",
      "tTTps00\n",
      "tTTps00\n",
      "tTTps00\n",
      "tTTps00\n",
      "tTTps00\n",
      "tTTps00\n",
      "tTTps00\n",
      "tTTps00\n",
      "tTTps00\n",
      "tTTps00\n",
      "tTTps00\n",
      "tTTps00\n",
      "tTTps00\n",
      "tTTps00\n",
      "tTTps00\n",
      "tTTps00\n",
      "tTTps00\n",
      "tTTps00\n",
      "tTTps00\n",
      "tTTps00\n",
      "tTTps00\n",
      "tTTps00\n",
      "tTTps00\n",
      "tTTps00\n",
      "tTTps00\n",
      "tTTps00\n",
      "tTTps00\n",
      "tTTps00\n",
      "tTTps00\n",
      "tTTps00\n",
      "tTTps00\n",
      "tTTps00\n",
      "tTTps00\n"
     ]
    },
    {
     "ename": "KeyboardInterrupt",
     "evalue": "",
     "output_type": "error",
     "traceback": [
      "\u001b[0;31m---------------------------------------------------------------------------\u001b[0m",
      "\u001b[0;31mKeyboardInterrupt\u001b[0m                         Traceback (most recent call last)",
      "Input \u001b[0;32mIn [50]\u001b[0m, in \u001b[0;36m<cell line: 1>\u001b[0;34m()\u001b[0m\n\u001b[0;32m----> 1\u001b[0m schedule, cost_best, cost_log, best_ps_config \u001b[38;5;241m=\u001b[39m \u001b[43msa\u001b[49m\u001b[43m(\u001b[49m\u001b[43mtasks\u001b[49m\u001b[43m,\u001b[49m\u001b[43m \u001b[49m\u001b[38;5;241;43m1000\u001b[39;49m\u001b[43m,\u001b[49m\u001b[43m \u001b[49m\u001b[38;5;241;43m.99\u001b[39;49m\u001b[43m,\u001b[49m\u001b[43m \u001b[49m\u001b[38;5;241;43m30\u001b[39;49m\u001b[43m,\u001b[49m\u001b[43m \u001b[49m\u001b[43mneighborhood_f\u001b[49m\u001b[43m \u001b[49m\u001b[38;5;241;43m=\u001b[39;49m\u001b[43m \u001b[49m\u001b[43mneighborhood\u001b[49m\u001b[43m,\u001b[49m\u001b[43m \u001b[49m\u001b[43mcost_f1\u001b[49m\u001b[38;5;241;43m=\u001b[39;49m\u001b[43medf\u001b[49m\u001b[43m,\u001b[49m\u001b[43m \u001b[49m\u001b[43mcost_f2\u001b[49m\u001b[38;5;241;43m=\u001b[39;49m\u001b[43mcalculate_schedulabiltiy\u001b[49m\u001b[43m,\u001b[49m\u001b[43m \u001b[49m\u001b[43mlog_costs\u001b[49m\u001b[38;5;241;43m=\u001b[39;49m\u001b[38;5;28;43;01mTrue\u001b[39;49;00m\u001b[43m)\u001b[49m\n",
      "Input \u001b[0;32mIn [47]\u001b[0m, in \u001b[0;36msa\u001b[0;34m(s0, t, a, stopcriterion_sec, neighborhood_f, cost_f1, cost_f2, log_costs)\u001b[0m\n\u001b[1;32m     37\u001b[0m ps_tmp \u001b[38;5;241m=\u001b[39m neighborhood_f(polling_servers)\n\u001b[1;32m     39\u001b[0m \u001b[38;5;66;03m# https://www.geeksforgeeks.org/reduce-in-python/\u001b[39;00m\n\u001b[1;32m     40\u001b[0m \u001b[38;5;66;03m# create list of bools by applying schedulability check for ets, fold into single bool using and.\u001b[39;00m\n\u001b[0;32m---> 41\u001b[0m is_schedulable \u001b[38;5;241m=\u001b[39m reduce((\u001b[38;5;28;01mlambda\u001b[39;00m a, b : a \u001b[38;5;129;01mand\u001b[39;00m b), [cost_f2(ps, ps\u001b[38;5;241m.\u001b[39met_subset) \u001b[38;5;28;01mfor\u001b[39;00m ps \u001b[38;5;129;01min\u001b[39;00m ps_tmp])\n\u001b[1;32m     43\u001b[0m \u001b[38;5;66;03m# if not schedulable skip iteration\u001b[39;00m\n\u001b[1;32m     44\u001b[0m \u001b[38;5;28;01mif\u001b[39;00m \u001b[38;5;129;01mnot\u001b[39;00m is_schedulable:\n",
      "Input \u001b[0;32mIn [47]\u001b[0m, in \u001b[0;36m<listcomp>\u001b[0;34m(.0)\u001b[0m\n\u001b[1;32m     37\u001b[0m ps_tmp \u001b[38;5;241m=\u001b[39m neighborhood_f(polling_servers)\n\u001b[1;32m     39\u001b[0m \u001b[38;5;66;03m# https://www.geeksforgeeks.org/reduce-in-python/\u001b[39;00m\n\u001b[1;32m     40\u001b[0m \u001b[38;5;66;03m# create list of bools by applying schedulability check for ets, fold into single bool using and.\u001b[39;00m\n\u001b[0;32m---> 41\u001b[0m is_schedulable \u001b[38;5;241m=\u001b[39m reduce((\u001b[38;5;28;01mlambda\u001b[39;00m a, b : a \u001b[38;5;129;01mand\u001b[39;00m b), [\u001b[43mcost_f2\u001b[49m\u001b[43m(\u001b[49m\u001b[43mps\u001b[49m\u001b[43m,\u001b[49m\u001b[43m \u001b[49m\u001b[43mps\u001b[49m\u001b[38;5;241;43m.\u001b[39;49m\u001b[43met_subset\u001b[49m\u001b[43m)\u001b[49m \u001b[38;5;28;01mfor\u001b[39;00m ps \u001b[38;5;129;01min\u001b[39;00m ps_tmp])\n\u001b[1;32m     43\u001b[0m \u001b[38;5;66;03m# if not schedulable skip iteration\u001b[39;00m\n\u001b[1;32m     44\u001b[0m \u001b[38;5;28;01mif\u001b[39;00m \u001b[38;5;129;01mnot\u001b[39;00m is_schedulable:\n",
      "Input \u001b[0;32mIn [48]\u001b[0m, in \u001b[0;36mcalculate_schedulabiltiy\u001b[0;34m(ps, task_periods)\u001b[0m\n\u001b[1;32m     36\u001b[0m demand \u001b[38;5;241m=\u001b[39m \u001b[38;5;241m0\u001b[39m\n\u001b[1;32m     37\u001b[0m \u001b[38;5;28;01mfor\u001b[39;00m tj \u001b[38;5;129;01min\u001b[39;00m task_periods:\n\u001b[0;32m---> 38\u001b[0m     (pj, Cj, Tj, Dj) \u001b[38;5;241m=\u001b[39m \u001b[43munpack\u001b[49m\u001b[43m(\u001b[49m\u001b[43mtj\u001b[49m\u001b[43m)\u001b[49m\n\u001b[1;32m     40\u001b[0m     \u001b[38;5;28;01mif\u001b[39;00m pj \u001b[38;5;241m>\u001b[39m\u001b[38;5;241m=\u001b[39m pi:\n\u001b[1;32m     41\u001b[0m         demand  \u001b[38;5;241m=\u001b[39m demand \u001b[38;5;241m+\u001b[39m math\u001b[38;5;241m.\u001b[39mceil(t\u001b[38;5;241m/\u001b[39mTj)\u001b[38;5;241m*\u001b[39mCj\n",
      "Input \u001b[0;32mIn [48]\u001b[0m, in \u001b[0;36munpack\u001b[0;34m(task)\u001b[0m\n\u001b[1;32m      1\u001b[0m \u001b[38;5;28;01mdef\u001b[39;00m \u001b[38;5;21munpack\u001b[39m(task):\n\u001b[0;32m----> 2\u001b[0m     \u001b[38;5;28;01mreturn\u001b[39;00m (task\u001b[38;5;241m.\u001b[39mpriority, task\u001b[38;5;241m.\u001b[39mduration, task\u001b[38;5;241m.\u001b[39mperiod, task\u001b[38;5;241m.\u001b[39mdeadline)\n",
      "\u001b[0;31mKeyboardInterrupt\u001b[0m: "
     ]
    }
   ],
   "source": [
    "schedule, cost_best, cost_log, best_ps_config = sa(tasks, 1000, .99, 30, neighborhood_f = neighborhood, cost_f1=edf, cost_f2=calculate_schedulabiltiy, log_costs=True)"
   ]
  },
  {
   "cell_type": "code",
   "execution_count": null,
   "id": "f57dfed6",
   "metadata": {},
   "outputs": [],
   "source": [
    "fig, ax = plt.subplots()\n",
    "ax.plot(np.arange(len(cost_log)), cost_log)\n",
    "fig.set_size_inches(18.5, 10.5)\n",
    "fig.set_dpi(300)"
   ]
  },
  {
   "cell_type": "code",
   "execution_count": 14,
   "id": "1c3f122c",
   "metadata": {
    "scrolled": true
   },
   "outputs": [
    {
     "name": "stdout",
     "output_type": "stream",
     "text": [
      "inf\n"
     ]
    }
   ],
   "source": [
    "print(cost_best)"
   ]
  },
  {
   "cell_type": "code",
   "execution_count": 15,
   "id": "ef361f55",
   "metadata": {},
   "outputs": [
    {
     "name": "stdout",
     "output_type": "stream",
     "text": [
      "0\n"
     ]
    }
   ],
   "source": [
    "print(sum([1 for t in schedule if t == \"tTTps00\"]))"
   ]
  },
  {
   "cell_type": "code",
   "execution_count": 16,
   "id": "513f822a",
   "metadata": {},
   "outputs": [
    {
     "data": {
      "text/plain": [
       "904"
      ]
     },
     "execution_count": 16,
     "metadata": {},
     "output_type": "execute_result"
    }
   ],
   "source": [
    "l = [True, True, False]\n",
    "\n",
    "sum([e.duration for e in tasks if e.type == TaskType.EVENT])"
   ]
  },
  {
   "cell_type": "code",
   "execution_count": 17,
   "id": "8b624b22",
   "metadata": {},
   "outputs": [
    {
     "data": {
      "text/plain": [
       "0"
      ]
     },
     "execution_count": 17,
     "metadata": {},
     "output_type": "execute_result"
    }
   ],
   "source": [
    "(lambda x : x + 1)(-1)"
   ]
  },
  {
   "cell_type": "code",
   "execution_count": 18,
   "id": "cdff1335",
   "metadata": {},
   "outputs": [
    {
     "name": "stdout",
     "output_type": "stream",
     "text": [
      "inf\n"
     ]
    }
   ],
   "source": [
    "print(cost_best)"
   ]
  },
  {
   "cell_type": "code",
   "execution_count": 19,
   "id": "3879a8f7",
   "metadata": {},
   "outputs": [],
   "source": [
    "for ps in best_ps_config:\n",
    "    print(ps.name, ps.deadline, ps.duration, ps.period)"
   ]
  },
  {
   "cell_type": "code",
   "execution_count": 20,
   "id": "21fa1a6a",
   "metadata": {},
   "outputs": [
    {
     "data": {
      "text/plain": [
       "False"
      ]
     },
     "execution_count": 20,
     "metadata": {},
     "output_type": "execute_result"
    }
   ],
   "source": [
    "reduce((lambda a, b : a and b), [True, False, True, True])"
   ]
  },
  {
   "cell_type": "code",
   "execution_count": 21,
   "id": "0b4aafaa",
   "metadata": {},
   "outputs": [
    {
     "name": "stdout",
     "output_type": "stream",
     "text": [
      "3\n",
      "5\n",
      "1000\n",
      "5\n"
     ]
    }
   ],
   "source": [
    "a = Task(\"a\",1,2,3,3,3)\n",
    "b = Task(\"a\",1,2,3,3,5)\n",
    "l = [a,b]\n",
    "for t in l:\n",
    "    print(t.deadline)\n",
    "\n",
    "\n",
    "c = l[0]\n",
    "c.deadline = 1000\n",
    "for t in l:\n",
    "    print(t.deadline)"
   ]
  },
  {
   "cell_type": "code",
   "execution_count": 22,
   "id": "e8e9105d",
   "metadata": {},
   "outputs": [
    {
     "data": {
      "text/plain": [
       "4"
      ]
     },
     "execution_count": 22,
     "metadata": {},
     "output_type": "execute_result"
    }
   ],
   "source": [
    "int(12000 / 2600)"
   ]
  },
  {
   "cell_type": "code",
   "execution_count": 23,
   "id": "e865ac59",
   "metadata": {},
   "outputs": [
    {
     "data": {
      "text/plain": [
       "6500"
      ]
     },
     "execution_count": 23,
     "metadata": {},
     "output_type": "execute_result"
    }
   ],
   "source": [
    "10 * 650"
   ]
  },
  {
   "cell_type": "code",
   "execution_count": 24,
   "id": "9c764c23",
   "metadata": {},
   "outputs": [
    {
     "data": {
      "text/plain": [
       "2"
      ]
     },
     "execution_count": 24,
     "metadata": {},
     "output_type": "execute_result"
    }
   ],
   "source": [
    "rand.randint(0,4)"
   ]
  },
  {
   "cell_type": "code",
   "execution_count": 25,
   "id": "ebdf592c",
   "metadata": {},
   "outputs": [
    {
     "name": "stdout",
     "output_type": "stream",
     "text": [
      "{'tTT0': 16, 'tTT1': 33, 'tTT4': 39, 'tTT5': 42, 'tTT6': 63, 'tTT11': 81, 'tTT14': 85, 'tTT18': 113, 'tTT21': 125, 'tTT24': 156, 'tTT26': 162, 'tTT27': 171, 'tTT7': 210, 'tTT8': 235, 'tTT9': 286, 'tTT10': 322, 'tTT17': 380, 'tTT19': 439, 'tTT20': 444, 'tTT23': 592, 'tTT25': 594, 'tTT28': 674, 'tTT2': 703, 'tTT3': 704, 'tTT12': 835, 'tTT13': 842, 'tTT15': 859, 'tTT16': 874, 'tTT22': 880, 'tTT29': 884}\n"
     ]
    }
   ],
   "source": [
    "print(wcrts)"
   ]
  },
  {
   "cell_type": "code",
   "execution_count": null,
   "id": "a3273a6d",
   "metadata": {},
   "outputs": [],
   "source": []
  }
 ],
 "metadata": {
  "kernelspec": {
   "display_name": "Python 3 (ipykernel)",
   "language": "python",
   "name": "python3"
  },
  "language_info": {
   "codemirror_mode": {
    "name": "ipython",
    "version": 3
   },
   "file_extension": ".py",
   "mimetype": "text/x-python",
   "name": "python",
   "nbconvert_exporter": "python",
   "pygments_lexer": "ipython3",
   "version": "3.9.12"
  }
 },
 "nbformat": 4,
 "nbformat_minor": 5
}
