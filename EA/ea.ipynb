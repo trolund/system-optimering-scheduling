{
 "cells": [
  {
   "cell_type": "markdown",
   "source": [
    "# The standard Evolutionary Algorithm (EA)\n",
    "\n",
    "Initialise the entire population\n",
    "**repeat**\n",
    "    > Select promising individuals from current population\n",
    "    > Reproduce selected individuals\n",
    "    > Mutate reproduced individuals\n",
    "    > Evaluate created individuals\n",
    "    > Create new/updated population\n",
    "**until** time-runs-out\n",
    "**return** best from population"
   ],
   "metadata": {
    "collapsed": false
   }
  },
  {
   "cell_type": "markdown",
   "source": [
    "arr = [{pol_number, [budget, period, deadline], [assignment_to_servers]}]"
   ],
   "metadata": {
    "collapsed": false
   }
  },
  {
   "cell_type": "code",
   "execution_count": 2,
   "outputs": [
    {
     "ename": "ModuleNotFoundError",
     "evalue": "No module named 'sa_scheduling'",
     "output_type": "error",
     "traceback": [
      "\u001B[0;31m---------------------------------------------------------------------------\u001B[0m",
      "\u001B[0;31mModuleNotFoundError\u001B[0m                       Traceback (most recent call last)",
      "Cell \u001B[0;32mIn [2], line 1\u001B[0m\n\u001B[0;32m----> 1\u001B[0m \u001B[38;5;28;01mfrom\u001B[39;00m \u001B[38;5;21;01msa_scheduling\u001B[39;00m\u001B[38;5;21;01m.\u001B[39;00m\u001B[38;5;21;01mcost_functions\u001B[39;00m \u001B[38;5;28;01mimport\u001B[39;00m cost_f\n\u001B[1;32m      2\u001B[0m \u001B[38;5;28;01mfrom\u001B[39;00m \u001B[38;5;21;01mnumpy\u001B[39;00m\u001B[38;5;21;01m.\u001B[39;00m\u001B[38;5;21;01mrandom\u001B[39;00m \u001B[38;5;28;01mimport\u001B[39;00m randint, rand\n\u001B[1;32m      4\u001B[0m max_number_of_polling_servers \u001B[38;5;241m=\u001B[39m \u001B[38;5;241m10\u001B[39m\n",
      "\u001B[0;31mModuleNotFoundError\u001B[0m: No module named 'sa_scheduling'"
     ]
    }
   ],
   "source": [
    "from sa_scheduling.cost_functions import cost_f\n",
    "from numpy.random import randint, rand\n",
    "\n",
    "max_number_of_polling_servers = 10\n",
    "\n",
    "# tournament selection\n",
    "def selection(pop, scores, k=3):\n",
    "\t# first random selection\n",
    "\tselection_ix = randint(len(pop))\n",
    "\n",
    "\tfor ix in randint(0, len(pop), k-1):\n",
    "\t\t# check if better (e.g. perform a tournament)\n",
    "\t\tif scores[ix] < scores[selection_ix]:\n",
    "\t\t\tselection_ix = ix\n",
    "\n",
    "\treturn pop[selection_ix]\n",
    "\n",
    "# mutation operator\n",
    "def mutation(bitstring, r_mut):\n",
    "\tfor i in range(len(bitstring)):\n",
    "\t\t# check for a mutation\n",
    "\t\tif rand() < r_mut:\n",
    "\t\t\t# flip the bit\n",
    "\t\t\tbitstring[i] = 1 - bitstring[i]\n",
    "\n",
    "def crossover(p1, p2, r_cross):\n",
    "\t# children are copies of parents by default\n",
    "\tc1, c2 = p1.copy(), p2.copy()\n",
    "\t# check for recombination\n",
    "\tif rand() < r_cross:\n",
    "\t\t# select crossover point that is not on the end of the string\n",
    "\t\tpt = randint(1, len(p1)-2)\n",
    "\t\t# perform crossover\n",
    "\t\tc1 = p1[:pt] + p2[pt:]\n",
    "\t\tc2 = p2[:pt] + p1[pt:]\n",
    "\treturn [c1, c2]\n",
    "\n",
    "def create_pop(population_size, task_set):\n",
    "\tpopulation = []\n",
    "\n",
    "\ttt_tasks = [t for t in task_set if t.type == TaskType.TIME]\n",
    "\tet_tasks = [t for t in task_set if t.type == TaskType.EVENT]\n",
    "\n",
    "\tfor x in range(population_size):\n",
    "\t\tpopulation.append(neighborhood.create_random_ps(et_tasks))\n",
    "\n",
    "\treturn population\n",
    "\n",
    "# genetic algorithm\n",
    "def genetic_algorithm(task_set, fitness_func, chromosome_len, number_of_generations, population_size, crossover_rate, mutation_rate):\n",
    "\tinit_tt_tasks = [t for t in task_set if t.type == TaskType.TIME]\n",
    "\n",
    "\t# Initialise the entire population\n",
    "\tpop = create_pop(population_size, task_set)\n",
    "\n",
    "\t# keep track of best solution\n",
    "\tbest, best_eval = min(fitness_func(pop, tt_tasks), key = lambda t: t[1])\n",
    "\n",
    "\t# enumerate generations (repeat)\n",
    "\tfor gen in range(number_of_generations):\n",
    "\t\t# evaluate all candidates in the population\n",
    "\t\t#scores = [fitness_func(c, init_tt_tasks) for c in pop]\n",
    "\t\tscores = fitness_func(pop, tt_tasks)\n",
    "\t\t# check for new best solution\n",
    "\t\tfor i in range(population_size):\n",
    "\t\t\tif scores[i] < best_eval:\n",
    "\t\t\t\tbest, best_eval = pop[i], scores[i]\n",
    "\t\t\t\tprint(\">%d, new best f(%s) = %.3f\" % (gen,  pop[i], scores[i]))\n",
    "\t\t# select parents\n",
    "\t\tselected = [selection(pop, scores) for _ in range(population_size)]\n",
    "\t\t# create the next generation\n",
    "\t\tchildren = list()\n",
    "\t\tfor i in range(0, population_size, 2):\n",
    "\t\t\t# get selected parents in pairs\n",
    "\t\t\tp1, p2 = selected[i], selected[i+1]\n",
    "\t\t\t# crossover and mutation\n",
    "\t\t\tfor c in crossover(p1, p2, crossover_rate):\n",
    "\t\t\t\t# mutation\n",
    "\t\t\t\tmutation(c, mutation_rate)\n",
    "\t\t\t\t# store for next generation\n",
    "\t\t\t\tchildren.append(c)\n",
    "\t\t# replace population\n",
    "\t\tpop = children\n",
    "\treturn [best, best_eval]\n",
    "\n",
    "# fitness function\n",
    "def cost(population, tt_tasks):\n",
    "\treturn [(solution, cost_f(tt_tasks + solution)) for solution in population]\n",
    "\n",
    "def eval(population, tt_tasks):\n",
    "\treturn min(cost(population, tt_tasks), key = lambda t: t[1])\n",
    "\n",
    "# define the total iterations\n",
    "n_iter = 100\n",
    "# bits\n",
    "n_bits = 20\n",
    "# define the population size\n",
    "n_pop = 100\n",
    "# crossover rate\n",
    "r_cross = 0.9\n",
    "# mutation rate\n",
    "r_mut = 1.0 / float(n_bits)\n",
    "\n",
    "# perform the genetic algorithm search\n",
    "best, score = genetic_algorithm(cost, n_bits, n_iter, n_pop, r_cross, r_mut)\n",
    "\n",
    "print('Done!')\n",
    "print('f(%s) = %f' % (best, score))"
   ],
   "metadata": {
    "collapsed": false
   }
  },
  {
   "cell_type": "code",
   "execution_count": 8,
   "outputs": [
    {
     "ename": "ModuleNotFoundError",
     "evalue": "No module named 'taskType'",
     "output_type": "error",
     "traceback": [
      "\u001B[0;31m---------------------------------------------------------------------------\u001B[0m",
      "\u001B[0;31mModuleNotFoundError\u001B[0m                       Traceback (most recent call last)",
      "Cell \u001B[0;32mIn [8], line 1\u001B[0m\n\u001B[0;32m----> 1\u001B[0m \u001B[38;5;28;01mfrom\u001B[39;00m \u001B[38;5;21;01mtaskType\u001B[39;00m \u001B[38;5;28;01mimport\u001B[39;00m TaskType\n\u001B[1;32m      2\u001B[0m \u001B[38;5;28;01mfrom\u001B[39;00m \u001B[38;5;21;01mcaseLoader\u001B[39;00m \u001B[38;5;28;01mimport\u001B[39;00m CaseLoader\n\u001B[1;32m      3\u001B[0m \u001B[38;5;28;01mfrom\u001B[39;00m \u001B[38;5;21;01msa_scheduling\u001B[39;00m\u001B[38;5;21;01m.\u001B[39;00m\u001B[38;5;21;01mneighborhood\u001B[39;00m \u001B[38;5;28;01mimport\u001B[39;00m Neighborhood\n",
      "\u001B[0;31mModuleNotFoundError\u001B[0m: No module named 'taskType'"
     ]
    }
   ],
   "source": [
    "from taskType import TaskType\n",
    "from caseLoader import CaseLoader\n",
    "from sa_scheduling.neighborhood import Neighborhood\n",
    "\n",
    "neighborhood = Neighborhood()\n",
    "    # instantiate simulated annealer\n",
    "\n",
    "loader = CaseLoader()\n",
    "all_tasks = loader.load_test_case(\"inf_10_10\", 0, filePath=\"../test_cases/\")\n",
    "\n",
    "tt_tasks = [t for t in all_tasks if t.type == TaskType.TIME]\n",
    "et_tasks = [t for t in all_tasks if t.type == TaskType.EVENT]\n",
    "\n",
    "\n",
    "polling_servers_0 = [neighborhood.create_random_ps(et_tasks)]\n",
    "\n",
    "\n",
    "task_set = tt_tasks + polling_servers_0\n",
    "\n",
    "# define the total iterations\n",
    "n_iter = 100\n",
    "# bits\n",
    "n_bits = 20\n",
    "# define the population size\n",
    "n_pop = 100\n",
    "# crossover rate\n",
    "r_cross = 0.9\n",
    "# mutation rate\n",
    "r_mut = 1.0 / float(n_bits)\n",
    "\n",
    "# perform the genetic algorithm search\n",
    "best, score = genetic_algorithm(task_set, evaluate, n_bits, n_iter, n_pop, r_cross, r_mut)\n",
    "\n",
    "print('Done!')\n",
    "print('f(%s) = %f' % (best, score))"
   ],
   "metadata": {
    "collapsed": false
   }
  },
  {
   "cell_type": "code",
   "execution_count": null,
   "outputs": [],
   "source": [],
   "metadata": {
    "collapsed": false
   }
  }
 ],
 "metadata": {
  "kernelspec": {
   "display_name": "Python 3",
   "language": "python",
   "name": "python3"
  },
  "language_info": {
   "codemirror_mode": {
    "name": "ipython",
    "version": 2
   },
   "file_extension": ".py",
   "mimetype": "text/x-python",
   "name": "python",
   "nbconvert_exporter": "python",
   "pygments_lexer": "ipython2",
   "version": "2.7.6"
  }
 },
 "nbformat": 4,
 "nbformat_minor": 0
}
