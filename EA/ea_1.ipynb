{
 "cells": [
  {
   "cell_type": "markdown",
   "source": [
    "# The standard Evolutionary Algorithm (EA)\n",
    "\n",
    "Initialise the entire population\n",
    "**repeat**\n",
    "    > Select promising individuals from current population\n",
    "    > Reproduce selected individuals\n",
    "    > Mutate reproduced individuals\n",
    "    > Evaluate created individuals\n",
    "    > Create new/updated population\n",
    "**until** time-runs-out\n",
    "**return** best from population"
   ],
   "metadata": {
    "collapsed": false
   }
  },
  {
   "cell_type": "code",
   "execution_count": 1,
   "outputs": [],
   "source": [
    "import copy\n",
    "import math\n",
    "\n",
    "def get_ready(task_set, cycle, ready_list):\n",
    "    for task in task_set:\n",
    "        if cycle % task.period == 0:\n",
    "            new_job = copy.deepcopy(task)\n",
    "            new_job.deadline = new_job.deadline + cycle\n",
    "            new_job.release_time = cycle\n",
    "            ready_list.append(new_job)\n",
    "\n",
    "    # sort on deadline\n",
    "    # https://www.geeksforgeeks.org/sorting-objects-of-user-defined-class-in-python/\n",
    "    ready_list = sorted(ready_list, key=lambda t: t.deadline)\n",
    "\n",
    "    return sorted(ready_list, key=lambda t: t.deadline)\n",
    "\n",
    "def edf(ts):\n",
    "    T = math.lcm(2000,3000,4000) # least common multiple of TT task periods. 2000 mt =\n",
    "    S = [] # schedule will be hyperperiod long. 12 000 microticks == 120 000 microsecs == 120 ms\n",
    "    ready_list = []\n",
    "    wcrts = {} # worst case response times\n",
    "\n",
    "    for t in range(0, T):\n",
    "        ready_list = get_ready(ts, t, ready_list)\n",
    "\n",
    "        for task in ready_list:\n",
    "            if task.duration > 0 and task.deadline <= t:\n",
    "                return []\n",
    "\n",
    "            # job done check response time gt wcrt and remove from ready list\n",
    "            if task.duration == 0 and task.deadline >= t:\n",
    "                response_time = t - task.release_time\n",
    "\n",
    "                if task.name not in wcrts or response_time >= wcrts[task.name]:\n",
    "                    wcrts[task.name] = response_time\n",
    "\n",
    "                ready_list.remove(task)\n",
    "\n",
    "\n",
    "        if ready_list == []:\n",
    "            S.append(\"IDLE\")\n",
    "            continue\n",
    "        else:\n",
    "            # EDF get next job to execute\n",
    "            S.append(ready_list[0].name)\n",
    "            ready_list[0].duration = ready_list[0].duration - 1\n",
    "\n",
    "    if ready_list != []:\n",
    "        return [], []\n",
    "\n",
    "    return S, wcrts"
   ],
   "metadata": {
    "collapsed": false
   }
  },
  {
   "cell_type": "code",
   "execution_count": 2,
   "outputs": [
    {
     "name": "stdout",
     "output_type": "stream",
     "text": [
      "Searching for test cases at:\n",
      "../test_cases/inf_30_30\n",
      "Loaded case_group: inf_30_30 - case: 0 test case(s).\n"
     ]
    }
   ],
   "source": [
    "from caseLoader import CaseLoader\n",
    "from taskType import TaskType\n",
    "\n",
    "loader = CaseLoader()\n",
    "cases = loader.load_test_case(\"inf_30_30\", 0, filePath=\"../test_cases/\")\n",
    "cases = [c for c in cases if c.type == TaskType.TIME]"
   ],
   "metadata": {
    "collapsed": false
   }
  },
  {
   "cell_type": "code",
   "execution_count": 3,
   "outputs": [
    {
     "name": "stdout",
     "output_type": "stream",
     "text": [
      "{'tTT0': 16, 'tTT1': 33, 'tTT4': 39, 'tTT5': 42, 'tTT6': 63, 'tTT11': 81, 'tTT14': 85, 'tTT18': 113, 'tTT21': 125, 'tTT24': 156, 'tTT26': 162, 'tTT27': 171, 'tTT7': 210, 'tTT8': 235, 'tTT9': 286, 'tTT10': 322, 'tTT17': 380, 'tTT19': 439, 'tTT20': 444, 'tTT23': 592, 'tTT25': 594, 'tTT28': 674, 'tTT2': 703, 'tTT3': 704, 'tTT12': 835, 'tTT13': 842, 'tTT15': 859, 'tTT16': 874, 'tTT22': 880, 'tTT29': 884}\n"
     ]
    }
   ],
   "source": [
    "s, wcrts = edf(cases)\n",
    "print(wcrts)"
   ],
   "metadata": {
    "collapsed": false
   }
  },
  {
   "cell_type": "code",
   "execution_count": null,
   "outputs": [],
   "source": [],
   "metadata": {
    "collapsed": false
   }
  }
 ],
 "metadata": {
  "kernelspec": {
   "display_name": "Python 3",
   "language": "python",
   "name": "python3"
  },
  "language_info": {
   "codemirror_mode": {
    "name": "ipython",
    "version": 2
   },
   "file_extension": ".py",
   "mimetype": "text/x-python",
   "name": "python",
   "nbconvert_exporter": "python",
   "pygments_lexer": "ipython2",
   "version": "2.7.6"
  }
 },
 "nbformat": 4,
 "nbformat_minor": 0
}
