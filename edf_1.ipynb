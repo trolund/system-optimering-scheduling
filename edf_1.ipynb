{
 "cells": [
  {
   "cell_type": "code",
   "execution_count": 20,
   "id": "f6393877",
   "metadata": {},
   "outputs": [],
   "source": [
    "import csv\n",
    "import math\n",
    "import heapq\n",
    "import copy\n",
    "from dataclasses import dataclass, field\n",
    "from typing import Any\n",
    "from itertools import count\n",
    "import matplotlib.pyplot as plt\n",
    "import numpy as np\n",
    "from task import Task\n",
    "from caseLoader import CaseLoader"
   ]
  },
  {
   "cell_type": "code",
   "execution_count": 21,
   "id": "49140c1c",
   "metadata": {},
   "outputs": [],
   "source": [
    "# some constants used for indexing\n",
    "NAME = 0\n",
    "DURATION = 1\n",
    "PERIOD = 2\n",
    "TYPE = 3\n",
    "PRIORITY = 4\n",
    "DEADLINE = 5\n",
    "RELEASE_TIME = 6\n",
    "RESPONSE_TIME = 7 \n",
    "WCRT = 8\n",
    "\n",
    "MT = 10 # microtick\n",
    "\n",
    "# https://docs.python.org/3/library/heapq.html\n",
    "# use to only compare deadline for heapq invariant\n",
    "# use identifer to return elements of same priority in order they were inserted\n",
    "@dataclass(order=True)\n",
    "class Task_not:\n",
    "    deadline: int\n",
    "    item: Any=field(compare=False) \n",
    "    identifier: int = field(default_factory=count().__next__)"
   ]
  },
  {
   "cell_type": "code",
   "execution_count": 26,
   "id": "685bfd12",
   "metadata": {},
   "outputs": [
    {
     "data": {
      "text/plain": [
       "4000"
      ]
     },
     "execution_count": 26,
     "metadata": {},
     "output_type": "execute_result"
    }
   ],
   "source": [
    "ts1 = []\n",
    "ts2 = []\n",
    "TS = []\n",
    "with open('test_cases/inf_10_10/taskset__1643188013-a_0.1-b_0.1-n_30-m_20-d_unif-p_2000-q_4000-g_1000-t_5__0__tsk.csv', newline='') as csvfile:\n",
    "    testreader = csv.DictReader(csvfile, delimiter=';')\n",
    "    for line in testreader:\n",
    "        if line['type'] == \"TT\":\n",
    "            #ts1.append([line['name'], int(line['duration']), int(line['period']), line['type'], int(line['priority']), int(line['deadline'])])\n",
    "            ts2.append(Task_not(int(line['deadline']), [line['name'], int(line['duration']), int(line['period']), line['type'], int(line['priority']), int(line['deadline']), 0, None, 0]))\n",
    "            TS.append(Task(line['name'], int(line['duration']), int(line['period']), 0, int(line['priority']), int(line['deadline'])))\n",
    "#heapq.heappush(ts2, task(2000, ['tTT1', 4, 2000, 'TT', 7, 2000]))\n",
    "\n",
    "TS[0].deadline"
   ]
  },
  {
   "cell_type": "code",
   "execution_count": 27,
   "id": "40b49f8d",
   "metadata": {},
   "outputs": [],
   "source": [
    "#loader = CaseLoader()\n",
    "#cases = loader.load_test_case(\"inf_30_30\")\n",
    "\n",
    "\n",
    "#cases"
   ]
  },
  {
   "cell_type": "code",
   "execution_count": 47,
   "id": "effbc343",
   "metadata": {},
   "outputs": [],
   "source": [
    "# sort ready list in increasing order on deadline, calling with 0 will give all\n",
    "def get_ready1(task_set, cycle, ready_list):\n",
    "    for task in task_set:\n",
    "        if cycle % task.deadline == 0:\n",
    "            new_job = copy.deepcopy(task)\n",
    "            new_job.deadline = new_job.deadline * int(cycle/new_job.deadline) if cycle != 0 else new_job.deadline\n",
    "            heapq.heappush(ready_list, new_job)\n",
    "            \n",
    "    return ready_list\n",
    "\n",
    "def remove_from_ready(ready_list):\n",
    "    heapq.heappop(ready_list)\n",
    "    \n",
    "    \n",
    "def get_ready(task_set, cycle, ready_list):\n",
    "    for task in task_set:\n",
    "        if cycle % task.deadline == 0:\n",
    "            new_job = copy.deepcopy(task)\n",
    "            new_job.deadline = new_job.deadline * int(cycle/new_job.deadline) if cycle != 0 else new_job.deadline\n",
    "            ready_list.append(task)\n",
    "    \n",
    "    # sort on deadline somehow\n",
    "    # https://www.geeksforgeeks.org/sorting-objects-of-user-defined-class-in-python/\n",
    "    return sorted(ready_list, key=lambda t: t.deadline)\n",
    "        \n",
    "\n",
    "# ts is set of TT tasks\n",
    "def edf(ts):\n",
    "    T = math.lcm(2000,3000,4000) # least common multiple of TT task periods. 2000 mt = \n",
    "    S = [] # schedule will be hyperperiod long. 12 000 microticks == 120 000 microsecs == 120 ms\n",
    "    ready_list = []\n",
    "    wcrts = {} # worst case response times\n",
    "    print(T)\n",
    "\n",
    "    for t in range(0, T):\n",
    "        ready_list = get_ready(ts, t, ready_list)\n",
    "        \n",
    "        if ready_list == []:\n",
    "            S[t] = \"IDLE\" \n",
    "            continue\n",
    "        else:\n",
    "            pass\n",
    "        \n",
    "        for task in ready_list:\n",
    "            if task.duration > 0 and task.deadline <= t:\n",
    "                return []\n",
    "        \n",
    "            # job done check response time gt wcrt and remove from ready list\n",
    "            if task.duration == 0 and task.deadline >= t:\n",
    "                response_time = t - task.release_time\n",
    "                \n",
    "                if response_time >= ts[t.name]:\n",
    "                    wcrts[t.name] = response_time\n",
    "                \n",
    "                ready_list.remove(task)\n",
    "                \n",
    "            \n",
    "        # EDF get next job to execute \n",
    "        S.append(ready_list[0].name)\n",
    "        ready_list[0].duration = ready_list[0].duration - 1\n",
    "        \n",
    "        \n",
    "    if ready_list != []:\n",
    "        return []\n",
    "    \n",
    "    return S, wcrts"
   ]
  },
  {
   "cell_type": "code",
   "execution_count": 48,
   "id": "95e86169",
   "metadata": {},
   "outputs": [
    {
     "name": "stdout",
     "output_type": "stream",
     "text": [
      "12000\n"
     ]
    },
    {
     "ename": "AttributeError",
     "evalue": "'Task' object has no attribute 'release_time'",
     "output_type": "error",
     "traceback": [
      "\u001b[0;31m---------------------------------------------------------------------------\u001b[0m",
      "\u001b[0;31mAttributeError\u001b[0m                            Traceback (most recent call last)",
      "Input \u001b[0;32mIn [48]\u001b[0m, in \u001b[0;36m<cell line: 3>\u001b[0;34m()\u001b[0m\n\u001b[1;32m      1\u001b[0m \u001b[38;5;66;03m# sum wcrts as  cost??\u001b[39;00m\n\u001b[0;32m----> 3\u001b[0m s, ts \u001b[38;5;241m=\u001b[39m \u001b[43medf\u001b[49m\u001b[43m(\u001b[49m\u001b[43mTS\u001b[49m\u001b[43m)\u001b[49m\n",
      "Input \u001b[0;32mIn [47]\u001b[0m, in \u001b[0;36medf\u001b[0;34m(ts)\u001b[0m\n\u001b[1;32m     48\u001b[0m \u001b[38;5;66;03m# job done check response time gt wcrt and remove from ready list\u001b[39;00m\n\u001b[1;32m     49\u001b[0m \u001b[38;5;28;01mif\u001b[39;00m task\u001b[38;5;241m.\u001b[39mduration \u001b[38;5;241m==\u001b[39m \u001b[38;5;241m0\u001b[39m \u001b[38;5;129;01mand\u001b[39;00m task\u001b[38;5;241m.\u001b[39mdeadline \u001b[38;5;241m>\u001b[39m\u001b[38;5;241m=\u001b[39m t:\n\u001b[0;32m---> 50\u001b[0m     response_time \u001b[38;5;241m=\u001b[39m t \u001b[38;5;241m-\u001b[39m \u001b[43mtask\u001b[49m\u001b[38;5;241;43m.\u001b[39;49m\u001b[43mrelease_time\u001b[49m\n\u001b[1;32m     52\u001b[0m     \u001b[38;5;28;01mif\u001b[39;00m response_time \u001b[38;5;241m>\u001b[39m\u001b[38;5;241m=\u001b[39m ts[t\u001b[38;5;241m.\u001b[39mname]:\n\u001b[1;32m     53\u001b[0m         wcrts[t\u001b[38;5;241m.\u001b[39mname] \u001b[38;5;241m=\u001b[39m response_time\n",
      "\u001b[0;31mAttributeError\u001b[0m: 'Task' object has no attribute 'release_time'"
     ]
    }
   ],
   "source": [
    "# sum wcrts as  cost??\n",
    "\n",
    "s, ts = edf(TS)\n",
    "#print(s)\n",
    "#len(s)\n",
    "\n",
    "#print(wcrts)"
   ]
  },
  {
   "cell_type": "code",
   "execution_count": null,
   "id": "a4fc899f",
   "metadata": {},
   "outputs": [],
   "source": [
    "# sort ready list in increasing order on deadline, calling with 0 will give all\n",
    "def get_ready(task_set, cycle, ready_list):\n",
    "    for task in task_set:\n",
    "        if cycle % task.deadline == 0:\n",
    "            new_job = copy.deepcopy(task)\n",
    "            new_job.deadline = new_job.deadline + cycle \n",
    "            heapq.heappush(ready_list, new_job)\n",
    "            \n",
    "    return ready_list\n",
    "\n",
    "def remove_from_ready(ready_list):\n",
    "    heapq.heappop(ready_list)"
   ]
  },
  {
   "cell_type": "code",
   "execution_count": null,
   "id": "d6f71b42",
   "metadata": {},
   "outputs": [],
   "source": [
    "def edf(ts):\n",
    "    T = math.lcm(2000,3000,4000) # least common multiple of TT task periods. 2000 mt = \n",
    "    schedule = [] # schedule will be hyperperiod long. 12000 microticks == 120 000 microsecs == 120 ms\n",
    "    ready_list = get_ready(ts, 0, [])\n",
    "    t = 0\n",
    "    \n",
    "    while t < T:\n",
    "        for t in ready_list:\n",
    "            if t.item[DURATION] > 0 and t.\n",
    "            \n",
    "    \n"
   ]
  },
  {
   "cell_type": "code",
   "execution_count": 12,
   "id": "9f48b9ef",
   "metadata": {},
   "outputs": [],
   "source": [
    "l = [1,2,3]"
   ]
  },
  {
   "cell_type": "code",
   "execution_count": 13,
   "id": "6c976603",
   "metadata": {},
   "outputs": [],
   "source": [
    "del l[1]"
   ]
  },
  {
   "cell_type": "code",
   "execution_count": 14,
   "id": "b43b034c",
   "metadata": {},
   "outputs": [
    {
     "data": {
      "text/plain": [
       "[1, 3]"
      ]
     },
     "execution_count": 14,
     "metadata": {},
     "output_type": "execute_result"
    }
   ],
   "source": [
    "l"
   ]
  },
  {
   "cell_type": "code",
   "execution_count": 15,
   "id": "8705d571",
   "metadata": {},
   "outputs": [
    {
     "ename": "NameError",
     "evalue": "name 'ts' is not defined",
     "output_type": "error",
     "traceback": [
      "\u001b[0;31m---------------------------------------------------------------------------\u001b[0m",
      "\u001b[0;31mNameError\u001b[0m                                 Traceback (most recent call last)",
      "Input \u001b[0;32mIn [15]\u001b[0m, in \u001b[0;36m<cell line: 1>\u001b[0;34m()\u001b[0m\n\u001b[0;32m----> 1\u001b[0m \u001b[43mts\u001b[49m\n",
      "\u001b[0;31mNameError\u001b[0m: name 'ts' is not defined"
     ]
    }
   ],
   "source": []
  },
  {
   "cell_type": "code",
   "execution_count": null,
   "id": "ce85d17a",
   "metadata": {},
   "outputs": [],
   "source": []
  }
 ],
 "metadata": {
  "kernelspec": {
   "display_name": "Python 3 (ipykernel)",
   "language": "python",
   "name": "python3"
  },
  "language_info": {
   "codemirror_mode": {
    "name": "ipython",
    "version": 3
   },
   "file_extension": ".py",
   "mimetype": "text/x-python",
   "name": "python",
   "nbconvert_exporter": "python",
   "pygments_lexer": "ipython3",
   "version": "3.9.12"
  }
 },
 "nbformat": 4,
 "nbformat_minor": 5
}
