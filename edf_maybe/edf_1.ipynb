{
 "cells": [
  {
   "cell_type": "code",
   "execution_count": 10,
   "id": "f6393877",
   "metadata": {},
   "outputs": [
    {
     "ename": "SyntaxError",
     "evalue": "invalid syntax (841076415.py, line 10)",
     "output_type": "error",
     "traceback": [
      "\u001b[0;36m  Input \u001b[0;32mIn [10]\u001b[0;36m\u001b[0m\n\u001b[0;31m    from ../task import Task\u001b[0m\n\u001b[0m           ^\u001b[0m\n\u001b[0;31mSyntaxError\u001b[0m\u001b[0;31m:\u001b[0m invalid syntax\n"
     ]
    }
   ],
   "source": [
    "import csv\n",
    "import math\n",
    "import heapq\n",
    "import copy\n",
    "from dataclasses import dataclass, field\n",
    "from typing import Any\n",
    "from itertools import count\n",
    "import matplotlib.pyplot as plt\n",
    "import numpy as np\n",
    "from ../task import Task\n"
   ]
  },
  {
   "cell_type": "code",
   "execution_count": 3,
   "id": "49140c1c",
   "metadata": {},
   "outputs": [],
   "source": [
    "# some constants used for indexing\n",
    "NAME = 0\n",
    "DURATION = 1\n",
    "PERIOD = 2\n",
    "TYPE = 3\n",
    "PRIORITY = 4\n",
    "DEADLINE = 5\n",
    "RELEASE_TIME = 6\n",
    "RESPONSE_TIME = 7 \n",
    "WCRT = 8\n",
    "\n",
    "MT = 10 # microtick\n",
    "\n",
    "# https://docs.python.org/3/library/heapq.html\n",
    "# use to only compare deadline for heapq invariant\n",
    "# use identifer to return elements of same priority in order they were inserted\n",
    "@dataclass(order=True)\n",
    "class Task:\n",
    "    deadline: int\n",
    "    item: Any=field(compare=False) \n",
    "    identifier: int = field(default_factory=count().__next__)"
   ]
  },
  {
   "cell_type": "code",
   "execution_count": 5,
   "id": "685bfd12",
   "metadata": {},
   "outputs": [
    {
     "name": "stdout",
     "output_type": "stream",
     "text": [
      "140714473635168\n"
     ]
    }
   ],
   "source": [
    "ts1 = []\n",
    "ts2 = []\n",
    "with open('../test_cases/inf_10_10/taskset__1643188013-a_0.1-b_0.1-n_30-m_20-d_unif-p_2000-q_4000-g_1000-t_5__0__tsk.csv', newline='') as csvfile:\n",
    "    testreader = csv.DictReader(csvfile, delimiter=';')\n",
    "    for line in testreader:\n",
    "        if line['type'] == \"TT\":\n",
    "            ts1.append([line['name'], int(line['duration']), int(line['period']), line['type'], int(line['priority']), int(line['deadline'])])\n",
    "            ts2.append(Task(int(line['deadline']), [line['name'], int(line['duration']), int(line['period']), line['type'], int(line['priority']), int(line['deadline']), 0, None, 0]))\n",
    "            \n",
    "#heapq.heappush(ts2, task(2000, ['tTT1', 4, 2000, 'TT', 7, 2000]))\n",
    "\n",
    "print(id(ts2[0]))"
   ]
  },
  {
   "cell_type": "code",
   "execution_count": 28,
   "id": "effbc343",
   "metadata": {},
   "outputs": [],
   "source": [
    "# sort ready list in increasing order on deadline, calling with 0 will give all\n",
    "def get_ready(task_set, cycle, ready_list):\n",
    "    for task in task_set:\n",
    "        if cycle % task.deadline == 0:\n",
    "            new_job = copy.deepcopy(task)\n",
    "            new_job.deadline = new_job.deadline * int(cycle/new_job.deadline) if cycle != 0 else new_job.deadline\n",
    "            heapq.heappush(ready_list, new_job)\n",
    "            \n",
    "    return ready_list\n",
    "\n",
    "def remove_from_ready(ready_list):\n",
    "    heapq.heappop(ready_list)\n",
    "\n",
    "# ts is set of TT tasks\n",
    "def edf_NO(ts):\n",
    "    T = math.lcm(2000,3000,4000) # least common multiple of TT task periods. 2000 mt = \n",
    "    S = [] # schedule will be hyperperiod long. 12 000 microticks == 120 000 microsecs == 120 ms\n",
    "    ready_list = get_ready(ts, 0, [])\n",
    "    wcrts = {} # worst case response times\n",
    "    print(T)\n",
    "\n",
    "    for cycle in range(1, T*2+2):\n",
    "        ready_list = get_ready(ts, cycle, ready_list)\n",
    "        \n",
    "        if len(ready_list) == 0:\n",
    "            continue\n",
    "        else:\n",
    "            pass\n",
    "        \n",
    "        current_job = ready_list[0] # get current job. index 0 always closest deadline using heapq \n",
    "        current_job.item[START_TIME] = cycle*MT if current_job.item[START_TIME] == None else current_job.item[START_TIME]\n",
    "        S.append(current_job)\n",
    "\n",
    "        # duration given in microticks\n",
    "        ready_list[0].item[DURATION] = ready_list[0].item[DURATION] - 1\n",
    "    \n",
    "        if ready_list[0].item[DURATION] == 0:\n",
    "            response = cycle * MT - current_job.item[START_TIME] # store in variable to make conditional below more readable\n",
    "            current_job.item[RESPONSE_TIME] = response\n",
    "            \n",
    "            \n",
    "            # remember worst case response time for each TT\n",
    "            if current_job.item[NAME] not in wcrts or response > wcrts[current_job.item[NAME]]:\n",
    "                wcrts[current_job.item[NAME]] = current_job.item[RESPONSE_TIME]\n",
    "\n",
    "            remove_from_ready(ready_list)\n",
    "\n",
    "            # why should we update S here ?? to get response there too? \n",
    "            #S[-1] = current_job\n",
    "         \n",
    "    return S, wcrts"
   ]
  },
  {
   "cell_type": "code",
   "execution_count": 29,
   "id": "95e86169",
   "metadata": {},
   "outputs": [
    {
     "name": "stdout",
     "output_type": "stream",
     "text": [
      "12000\n"
     ]
    }
   ],
   "source": [
    "# sum wcrts as  cost??\n",
    "\n",
    "s, wcrts = edf_NO(ts2)\n",
    "#print(s)\n",
    "#len(s)\n",
    "\n",
    "#print(wcrts)"
   ]
  },
  {
   "cell_type": "code",
   "execution_count": null,
   "id": "caaaf1d8",
   "metadata": {},
   "outputs": [],
   "source": [
    "# sort ready list in increasing order on deadline, calling with 0 will give all\n",
    "def get_ready(task_set, cycle, ready_list):\n",
    "    for task in task_set:\n",
    "        if cycle % task.deadline == 0:\n",
    "            new_job = copy.deepcopy(task)\n",
    "            new_job.deadline = new_job.deadline + cycle \n",
    "            heapq.heappush(ready_list, new_job)\n",
    "            \n",
    "    return ready_list\n",
    "\n",
    "def remove_from_ready(ready_list):\n",
    "    heapq.heappop(ready_list)"
   ]
  },
  {
   "cell_type": "code",
   "execution_count": null,
   "id": "d6f71b42",
   "metadata": {},
   "outputs": [],
   "source": [
    "def edf(ts):\n",
    "    T = math.lcm(2000,3000,4000) # least common multiple of TT task periods. 2000 mt = \n",
    "    schedule = [] # schedule will be hyperperiod long. 12000 microticks == 120 000 microsecs == 120 ms\n",
    "    ready_list = get_ready(ts, 0, [])\n",
    "    t = 0\n",
    "    \n",
    "    while t < T:\n",
    "        for t in ready_list:\n",
    "            if t.item[DURATION] > 0 and t.\n",
    "            \n",
    "    \n"
   ]
  }
 ],
 "metadata": {
  "kernelspec": {
   "display_name": "Python 3 (ipykernel)",
   "language": "python",
   "name": "python3"
  },
  "language_info": {
   "codemirror_mode": {
    "name": "ipython",
    "version": 3
   },
   "file_extension": ".py",
   "mimetype": "text/x-python",
   "name": "python",
   "nbconvert_exporter": "python",
   "pygments_lexer": "ipython3",
   "version": "3.9.12"
  }
 },
 "nbformat": 4,
 "nbformat_minor": 5
}
