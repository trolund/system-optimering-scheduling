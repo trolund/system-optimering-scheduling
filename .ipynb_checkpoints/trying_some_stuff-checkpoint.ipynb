{
 "cells": [
  {
   "cell_type": "code",
   "execution_count": 97,
   "id": "21242e94",
   "metadata": {},
   "outputs": [],
   "source": [
    "import math\n",
    "import copy\n",
    "from task import Task\n",
    "from caseLoader import CaseLoader\n",
    "from taskType import TaskType\n",
    "import random\n",
    "import time"
   ]
  },
  {
   "cell_type": "code",
   "execution_count": 98,
   "id": "24d661d0",
   "metadata": {},
   "outputs": [],
   "source": [
    "MT = 10 # microtick"
   ]
  },
  {
   "cell_type": "code",
   "execution_count": 99,
   "id": "95ed1c09",
   "metadata": {},
   "outputs": [
    {
     "name": "stdout",
     "output_type": "stream",
     "text": [
      "Searching for test cases at:\n",
      "./test_cases/inf_30_30\n",
      "Loaded case_group: inf_30_30 - case: 0 test case(s).\n"
     ]
    }
   ],
   "source": [
    "loader = CaseLoader()\n",
    "cases = loader.load_test_case(\"inf_30_30\", 0)\n",
    "cases_TT = [c for c in cases if c.type == TaskType.TIME]"
   ]
  },
  {
   "cell_type": "code",
   "execution_count": 100,
   "id": "6ea26e52",
   "metadata": {},
   "outputs": [],
   "source": [
    "def get_ready(task_set, cycle, ready_list):\n",
    "    for task in task_set:\n",
    "        if cycle % task.period == 0:\n",
    "            new_job = copy.deepcopy(task)\n",
    "            new_job.deadline = new_job.deadline + cycle\n",
    "            new_job.release_time = cycle\n",
    "            ready_list.append(new_job)\n",
    "    \n",
    "    # sort on deadline\n",
    "    # https://www.geeksforgeeks.org/sorting-objects-of-user-defined-class-in-python/\n",
    "    ready_list = sorted(ready_list, key=lambda t: t.deadline) \n",
    "    \n",
    "    return sorted(ready_list, key=lambda t: t.deadline)\n",
    "        \n",
    "\n",
    "# ts is set of TT tasks\n",
    "def edf(ts):\n",
    "    T = math.lcm(2000,3000,4000) # least common multiple of TT task periods. 2000 mt = s, wcrts = edf(cases)\n",
    "    S = [] # schedule will be hyperperiod long. 12 000 microticks == 120 000 microsecs == 120 ms\n",
    "    ready_list = []\n",
    "    wcrts = {} # worst case response times\n",
    "\n",
    "    for t in range(0, T):\n",
    "        ready_list = get_ready(ts, t, ready_list)\n",
    "        \n",
    "        for task in ready_list:\n",
    "            if task.duration > 0 and task.deadline <= t:\n",
    "                return []\n",
    "        \n",
    "            # job done check response time gt wcrt and remove from ready list\n",
    "            if task.duration == 0 and task.deadline >= t:\n",
    "                response_time = t - task.release_time\n",
    "                \n",
    "                if task.name not in wcrts or response_time >= wcrts[task.name]:\n",
    "                    wcrts[task.name] = response_time\n",
    "                \n",
    "                ready_list.remove(task)\n",
    "                \n",
    "            \n",
    "        if ready_list == []:\n",
    "            S.append(\"IDLE\")\n",
    "            continue\n",
    "        else:\n",
    "            # EDF get next job to execute \n",
    "            S.append(ready_list[0].name)\n",
    "            ready_list[0].duration = ready_list[0].duration - 1\n",
    "    \n",
    "    if ready_list != []:\n",
    "        return [], []\n",
    "    \n",
    "    return S, wcrts"
   ]
  },
  {
   "cell_type": "code",
   "execution_count": 101,
   "id": "a38b1e27",
   "metadata": {},
   "outputs": [],
   "source": [
    "s, wcrts = edf(cases_TT)"
   ]
  },
  {
   "cell_type": "code",
   "execution_count": 102,
   "id": "0952899f",
   "metadata": {},
   "outputs": [
    {
     "data": {
      "text/plain": [
       "12000"
      ]
     },
     "execution_count": 102,
     "metadata": {},
     "output_type": "execute_result"
    }
   ],
   "source": [
    "len(s)"
   ]
  },
  {
   "cell_type": "code",
   "execution_count": 103,
   "id": "7503de8a",
   "metadata": {},
   "outputs": [],
   "source": [
    "#Schedulability of ET tasks under a given polling task\n",
    "\n",
    "#Data:\n",
    "#polling task budget: Cp\n",
    "#polling task period: Tp\n",
    "#polling task deadline: Dp\n",
    "#subset of ET tasks to check Tau^ET (T_ET)\n",
    "#pi = priority\n",
    "#Ci = Computation time?\n",
    "#ti = task period (tuple)\n",
    "\n",
    "#result: small_tau (Boolean)\n",
    "\n",
    "####\n",
    "\n",
    "def unpack(task):\n",
    "    return task.priority, task.duration, task.period, task.deadline\n",
    "    \n",
    "def calculate_schedulabiltiy(Tp, Dp, Cp, task_periods):\n",
    "    #compute delta and alpha accordingly to [2]\n",
    "    Delta = Tp + Dp - 2*Cp\n",
    "    alpha = Cp/Tp\n",
    "    \n",
    "    #hyperperiod is lcm of all task periods in T_ET (all values must be from the chosen subset of ET tasks from the .csv)\n",
    "    periods = []\n",
    "    for task in task_periods:\n",
    "        (pi, Ci, Ti, Di) = unpack(task)\n",
    "        periods.append(task.period)\n",
    "\n",
    "    hyperperiod = math.lcm(*periods)\n",
    "    \n",
    "    hyperperiod = math.lcm(*[t.period for t in task_periods])\n",
    "    \n",
    "    \n",
    "\n",
    "    #loop\n",
    "    for task_period in task_periods:\n",
    "        (pi, Ci, Ti, Di) = unpack(task_period)\n",
    "        t = 0\n",
    "        #initialize the response time of ti (task period) to a value exceeding the deadline\n",
    "        response_time = Di + 1\n",
    "\n",
    "        #remember we are dealing with constrained deadline tasks for the AdvPoll, hence, in the worst case arrival pattern, the intersection must lie within the hyperperiod if the task is schedulable\n",
    "\n",
    "        while t < hyperperiod:\n",
    "            #the supply at time t ([1])\n",
    "            supply = alpha*(t-Delta)\n",
    "            \n",
    "            #compute the maximum demand at time t according to Eq. 2\n",
    "            demand = 0\n",
    "            for tj in task_periods:\n",
    "                (pj, Cj, Tj, Dj) = tj.period, tj.duration, tj.period, tj.deadline\n",
    "\n",
    "                if pj >= pi:\n",
    "                    demand  = demand + math.ceil(t/Tj)*Cj\n",
    "            \n",
    "            #According to lemma 1 of [1], we are searching for the earliest time, when the supply exceeds the demand\n",
    "            if supply >= demand:\n",
    "                response_time = t\n",
    "                break \n",
    "            \n",
    "            t = t + 1\n",
    "        \n",
    "            if response_time >= Di:\n",
    "                return False, response_time\n",
    "        \n",
    "    return True, response_time\n",
    "\n",
    "#TODO: \n",
    "    # load in .csv\n",
    "    # loop through properties and assign to multiple tuples in task_periods\n",
    "def fetch_subset(name_of_csv):\n",
    "    return \"Not Implemented\"\n",
    "\n",
    "#properties of polling task\n",
    "Dp = 1\n",
    "Tp = 2\n",
    "Cp = 3\n",
    "\n",
    "subset = [(1,2,3,4), (5,4,3,2)]"
   ]
  },
  {
   "cell_type": "code",
   "execution_count": 104,
   "id": "511c55f2",
   "metadata": {},
   "outputs": [],
   "source": [
    "cases_ET = [c for c in cases if c.type == TaskType.EVENT]"
   ]
  },
  {
   "cell_type": "code",
   "execution_count": 105,
   "id": "b7b75d04",
   "metadata": {},
   "outputs": [
    {
     "data": {
      "text/plain": [
       "(True, 0)"
      ]
     },
     "execution_count": 105,
     "metadata": {},
     "output_type": "execute_result"
    }
   ],
   "source": [
    "calculate_schedulabiltiy(500, 500, 500, cases_ET)"
   ]
  },
  {
   "cell_type": "code",
   "execution_count": 106,
   "id": "f4d0f1c9",
   "metadata": {},
   "outputs": [],
   "source": [
    "def p(delta, t):\n",
    "    return np.exp( -delta / t )\n",
    "\n",
    "# simulated annealing \n",
    "def sa(s0, t0, a, stopcriterion_sec, neighborhood_f = None, cost_f = None):\n",
    "    # initialize variables\n",
    "    sec0 = int(time.time())\n",
    "    sec_now = int(time.time())\n",
    "    s_best = s0[:]\n",
    "    cost_best = cost_f(s_best)\n",
    "    s_cur = s0[:]\n",
    "    cost_cur = cost_f(s_cur)\n",
    "    t = t0\n",
    "    \n",
    "    # does not matter if < or <= if 0 then new solution will be selected no matter what     \n",
    "    while sec_now - sec0 < stopcriterion_sec:\n",
    "        s_tmp = neighborhood_f(s_cur)\n",
    "        cost_tmp = cost_f(s_tmp)\n",
    "        delta = cost_tmp - cost_cur\n",
    "        \n",
    "        # accept randomly drawn solution from current neighborhood if better or with some probability\n",
    "        if delta <= 0 or p(delta, t) > rand.uniform(0.0, 1.0):\n",
    "            s_cur = s_tmp\n",
    "            cost_cur = cost_tmp\n",
    "            \n",
    "            # keep track of the best solution \n",
    "            if cost_cur < cost_best:\n",
    "                s_best = s_cur\n",
    "                cost_best = cost_cur\n",
    "        \n",
    "        # update temperature \n",
    "        t = t * a\n",
    "        \n",
    "        # update sec\n",
    "        sec_now = int(time.time())\n",
    "    \n",
    "    return s_best, cost_best "
   ]
  },
  {
   "cell_type": "code",
   "execution_count": 107,
   "id": "d8ebfe92",
   "metadata": {},
   "outputs": [],
   "source": [
    "rand = random.Random()\n",
    "\n",
    "# assume for now 1 PS and D=T\n",
    "def random_neighbor(s):\n",
    "    C = s[0]\n",
    "    T = s[1]\n",
    "    return [max(100, C + rand.randint(-100,100)), max(100, T + rand.randint(-100, 100))]\n",
    "    \n",
    "    "
   ]
  },
  {
   "cell_type": "code",
   "execution_count": 108,
   "id": "b64b9098",
   "metadata": {},
   "outputs": [
    {
     "data": {
      "text/plain": [
       "(False, 3848)"
      ]
     },
     "execution_count": 108,
     "metadata": {},
     "output_type": "execute_result"
    }
   ],
   "source": [
    "calculate_schedulabiltiy(14000, 14000, 5000, cases_ET)"
   ]
  },
  {
   "cell_type": "code",
   "execution_count": 109,
   "id": "abf57abd",
   "metadata": {},
   "outputs": [],
   "source": [
    "polling_server = Task('tTT30', 1000, 1000, TaskType.TIME, 7, 1000)\n",
    "cases_1 = cases_TT + [polling_server]"
   ]
  },
  {
   "cell_type": "code",
   "execution_count": 110,
   "id": "7f287c5d",
   "metadata": {},
   "outputs": [
    {
     "ename": "TypeError",
     "evalue": "cost_f1() missing 2 required positional arguments: 'et_tasks' and 'ps'",
     "output_type": "error",
     "traceback": [
      "\u001b[0;31m---------------------------------------------------------------------------\u001b[0m",
      "\u001b[0;31mTypeError\u001b[0m                                 Traceback (most recent call last)",
      "Input \u001b[0;32mIn [110]\u001b[0m, in \u001b[0;36m<cell line: 10>\u001b[0;34m()\u001b[0m\n\u001b[1;32m      6\u001b[0m     \u001b[38;5;28;01mreturn\u001b[39;00m edf(tt_tasks \u001b[38;5;241m+\u001b[39m [ps])\n\u001b[1;32m      9\u001b[0m \u001b[38;5;66;03m#def sa(s0, t0, a, stopcriterion_sec, neighborhood_f = None, cost_f = None):\u001b[39;00m\n\u001b[0;32m---> 10\u001b[0m s, cost \u001b[38;5;241m=\u001b[39m \u001b[43msa\u001b[49m\u001b[43m(\u001b[49m\u001b[43m[\u001b[49m\u001b[43mpolling_server\u001b[49m\u001b[38;5;241;43m.\u001b[39;49m\u001b[43mduration\u001b[49m\u001b[43m,\u001b[49m\u001b[43m \u001b[49m\u001b[43mpolling_server\u001b[49m\u001b[38;5;241;43m.\u001b[39;49m\u001b[43mperiod\u001b[49m\u001b[43m]\u001b[49m\u001b[43m,\u001b[49m\u001b[43m \u001b[49m\u001b[38;5;241;43m1000\u001b[39;49m\u001b[43m,\u001b[49m\u001b[43m \u001b[49m\u001b[38;5;241;43m0.99\u001b[39;49m\u001b[43m,\u001b[49m\u001b[43m \u001b[49m\u001b[38;5;241;43m60\u001b[39;49m\u001b[43m,\u001b[49m\u001b[43m \u001b[49m\u001b[43mrandom_neighbor\u001b[49m\u001b[43m,\u001b[49m\u001b[43m \u001b[49m\u001b[43mcost_f1\u001b[49m\u001b[43m)\u001b[49m\n",
      "Input \u001b[0;32mIn [106]\u001b[0m, in \u001b[0;36msa\u001b[0;34m(s0, t0, a, stopcriterion_sec, neighborhood_f, cost_f)\u001b[0m\n\u001b[1;32m      8\u001b[0m sec_now \u001b[38;5;241m=\u001b[39m \u001b[38;5;28mint\u001b[39m(time\u001b[38;5;241m.\u001b[39mtime())\n\u001b[1;32m      9\u001b[0m s_best \u001b[38;5;241m=\u001b[39m s0[:]\n\u001b[0;32m---> 10\u001b[0m cost_best \u001b[38;5;241m=\u001b[39m \u001b[43mcost_f\u001b[49m\u001b[43m(\u001b[49m\u001b[43ms_best\u001b[49m\u001b[43m)\u001b[49m\n\u001b[1;32m     11\u001b[0m s_cur \u001b[38;5;241m=\u001b[39m s0[:]\n\u001b[1;32m     12\u001b[0m cost_cur \u001b[38;5;241m=\u001b[39m cost_f(s_cur)\n",
      "\u001b[0;31mTypeError\u001b[0m: cost_f1() missing 2 required positional arguments: 'et_tasks' and 'ps'"
     ]
    }
   ],
   "source": [
    "def cost_f1(args):\n",
    "    tt_tasks, et_tasks, ps = *args\n",
    "    schedulable, response_time = calculate_schedulabiltiy(ps.period, ps.deadline, ps.duration, et_tasks)\n",
    "    if not schedulable:\n",
    "        return float(\"inf\"), {}\n",
    "    \n",
    "    return edf(tt_tasks + [ps])\n",
    "    \n",
    "\n",
    "#def sa(s0, t0, a, stopcriterion_sec, neighborhood_f = None, cost_f = None):\n",
    "s, cost = sa([polling_server.duration, polling_server.period], 1000, 0.99, 60, random_neighbor, cost_f1)"
   ]
  },
  {
   "cell_type": "code",
   "execution_count": 43,
   "id": "4f1bdf09",
   "metadata": {},
   "outputs": [
    {
     "ename": "SyntaxError",
     "evalue": "can't use starred expression here (492293102.py, line 1)",
     "output_type": "error",
     "traceback": [
      "\u001b[0;36m  Input \u001b[0;32mIn [43]\u001b[0;36m\u001b[0m\n\u001b[0;31m    *l\u001b[0m\n\u001b[0m    ^\u001b[0m\n\u001b[0;31mSyntaxError\u001b[0m\u001b[0;31m:\u001b[0m can't use starred expression here\n"
     ]
    }
   ],
   "source": []
  },
  {
   "cell_type": "code",
   "execution_count": 45,
   "id": "3c50b63f",
   "metadata": {},
   "outputs": [
    {
     "data": {
      "text/plain": [
       "12000"
      ]
     },
     "execution_count": 45,
     "metadata": {},
     "output_type": "execute_result"
    }
   ],
   "source": [
    "math.lcm(*[t.period for t in cases_ET])"
   ]
  },
  {
   "cell_type": "code",
   "execution_count": 70,
   "id": "b2597a58",
   "metadata": {},
   "outputs": [
    {
     "data": {
      "text/plain": [
       "100"
      ]
     },
     "execution_count": 70,
     "metadata": {},
     "output_type": "execute_result"
    }
   ],
   "source": [
    "max(100, 0)"
   ]
  },
  {
   "cell_type": "code",
   "execution_count": 78,
   "id": "7a90dcaf",
   "metadata": {},
   "outputs": [],
   "source": [
    "for i in range(100, 500):\n",
    "    t = i"
   ]
  },
  {
   "cell_type": "code",
   "execution_count": 79,
   "id": "63e3a7c7",
   "metadata": {},
   "outputs": [
    {
     "data": {
      "text/plain": [
       "499"
      ]
     },
     "execution_count": 79,
     "metadata": {},
     "output_type": "execute_result"
    }
   ],
   "source": [
    "t"
   ]
  },
  {
   "cell_type": "code",
   "execution_count": 89,
   "id": "6bf71853",
   "metadata": {},
   "outputs": [
    {
     "data": {
      "text/plain": [
       "inf"
      ]
     },
     "execution_count": 89,
     "metadata": {},
     "output_type": "execute_result"
    }
   ],
   "source": [
    "float('inf')"
   ]
  },
  {
   "cell_type": "code",
   "execution_count": null,
   "id": "a8603517",
   "metadata": {},
   "outputs": [],
   "source": []
  }
 ],
 "metadata": {
  "kernelspec": {
   "display_name": "Python 3 (ipykernel)",
   "language": "python",
   "name": "python3"
  },
  "language_info": {
   "codemirror_mode": {
    "name": "ipython",
    "version": 3
   },
   "file_extension": ".py",
   "mimetype": "text/x-python",
   "name": "python",
   "nbconvert_exporter": "python",
   "pygments_lexer": "ipython3",
   "version": "3.9.12"
  }
 },
 "nbformat": 4,
 "nbformat_minor": 5
}
