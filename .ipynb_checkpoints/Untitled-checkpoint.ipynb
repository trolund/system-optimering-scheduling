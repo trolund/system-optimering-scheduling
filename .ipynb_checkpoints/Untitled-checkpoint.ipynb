{
 "cells": [
  {
   "cell_type": "code",
   "execution_count": 97,
   "id": "8151f442",
   "metadata": {},
   "outputs": [],
   "source": [
    "from caseLoader import CaseLoader\n",
    "from taskType import TaskType\n",
    "import csv\n",
    "import math\n",
    "from operator import itemgetter # for sorting list of tuples based on some element of tuple\n"
   ]
  },
  {
   "cell_type": "code",
   "execution_count": 2,
   "id": "dd9999de",
   "metadata": {},
   "outputs": [],
   "source": [
    "def load():\n",
    "    loader = CaseLoader()\n",
    "    cases = loader.load_test_case()\n",
    "\n",
    "    print(\"cases loaded:\")\n",
    "    for case in cases.keys():\n",
    "        print(case)\n"
   ]
  },
  {
   "cell_type": "code",
   "execution_count": 45,
   "id": "0a8370fc",
   "metadata": {},
   "outputs": [
    {
     "name": "stdout",
     "output_type": "stream",
     "text": [
      "Searching for test cases at:\n",
      "./test cases\n",
      "Loaded 34 test case(s).\n"
     ]
    }
   ],
   "source": [
    "loader = CaseLoader()\n",
    "\n",
    "cases = loader.load_test_case()\n",
    "ts = [t for t in cases['inf_10_60'] if t.type == TaskType.TIME] # but then we get all tasks sets in that folder ig"
   ]
  },
  {
   "cell_type": "code",
   "execution_count": 173,
   "id": "56960cc9",
   "metadata": {},
   "outputs": [],
   "source": [
    "ts1 = []\n",
    "with open('test cases/inf_10_10/taskset__1643188013-a_0.1-b_0.1-n_30-m_20-d_unif-p_2000-q_4000-g_1000-t_5__0__tsk.csv', newline='') as csvfile:\n",
    "    testreader = csv.DictReader(csvfile, delimiter=';')\n",
    "    for line in testreader:\n",
    "        if line['type'] == \"TT\":\n",
    "            ts1.append([line['name'], int(line['duration']), int(line['period']), line['type'], int(line['priority']), int(line['deadline'])])\n",
    "\n",
    "NAME = 0\n",
    "DURATION = 1\n",
    "PERIOD = 2\n",
    "TYPE = 3\n",
    "PRIORITY = 4\n",
    "DEADLINE = 5"
   ]
  },
  {
   "cell_type": "code",
   "execution_count": 174,
   "id": "b92db514",
   "metadata": {},
   "outputs": [
    {
     "data": {
      "text/plain": [
       "[['tTT0', 5, 4000, 'TT', 7, 4000],\n",
       " ['tTT1', 4, 2000, 'TT', 7, 2000],\n",
       " ['tTT2', 4, 3000, 'TT', 7, 3000],\n",
       " ['tTT3', 13, 4000, 'TT', 7, 4000],\n",
       " ['tTT4', 22, 3000, 'TT', 7, 3000],\n",
       " ['tTT5', 15, 3000, 'TT', 7, 3000],\n",
       " ['tTT6', 3, 2000, 'TT', 7, 2000],\n",
       " ['tTT7', 9, 3000, 'TT', 7, 3000],\n",
       " ['tTT8', 2, 2000, 'TT', 7, 2000],\n",
       " ['tTT9', 1, 2000, 'TT', 7, 2000],\n",
       " ['tTT10', 4, 3000, 'TT', 7, 3000],\n",
       " ['tTT11', 25, 3000, 'TT', 7, 3000],\n",
       " ['tTT12', 10, 3000, 'TT', 7, 3000],\n",
       " ['tTT13', 16, 3000, 'TT', 7, 3000],\n",
       " ['tTT14', 11, 2000, 'TT', 7, 2000],\n",
       " ['tTT15', 3, 2000, 'TT', 7, 2000],\n",
       " ['tTT16', 3, 3000, 'TT', 7, 3000],\n",
       " ['tTT17', 34, 4000, 'TT', 7, 4000],\n",
       " ['tTT18', 13, 4000, 'TT', 7, 4000],\n",
       " ['tTT19', 16, 4000, 'TT', 7, 4000],\n",
       " ['tTT20', 11, 4000, 'TT', 7, 4000],\n",
       " ['tTT21', 8, 4000, 'TT', 7, 4000],\n",
       " ['tTT22', 6, 2000, 'TT', 7, 2000],\n",
       " ['tTT23', 22, 3000, 'TT', 7, 3000],\n",
       " ['tTT24', 30, 3000, 'TT', 7, 3000],\n",
       " ['tTT25', 5, 3000, 'TT', 7, 3000],\n",
       " ['tTT26', 1, 4000, 'TT', 7, 4000],\n",
       " ['tTT27', 2, 2000, 'TT', 7, 2000],\n",
       " ['tTT28', 19, 4000, 'TT', 7, 4000],\n",
       " ['tTT29', 13, 4000, 'TT', 7, 4000]]"
      ]
     },
     "execution_count": 174,
     "metadata": {},
     "output_type": "execute_result"
    }
   ],
   "source": [
    "ts1 # all time given in microtick units. e.g. duration of 5 microticks, period of 4000 microticks = 40 ms"
   ]
  },
  {
   "cell_type": "code",
   "execution_count": 180,
   "id": "991dc4cc",
   "metadata": {},
   "outputs": [],
   "source": [
    "# sort ready list in increasing order on deadline, calling with 0 will give all\n",
    "def get_ready(ts, cycle):\n",
    "    ready = [t for t in ts if cycle % t[DEADLINE] == 0]\n",
    "    ready.sort(key=itemgetter(DEADLINE))\n",
    "    return ready\n",
    "\n",
    "# ts is set of TT tasks\n",
    "def edf(ts):\n",
    "    T = math.lcm( *[t[DURATION] for t in ts1] ) # least common multiple of TT task periods\n",
    "    S = [] # schedule will be hyperperiod / microtick long \n",
    "    n = int(T/10)\n",
    "    ready_list = get_ready(ts, 0) \n",
    "\n",
    "    # increment in microticks implicitly? 1 'cycle' is 10 mts. more convenient...\n",
    "    for cycle in range(1, n+1):\n",
    "        current_job = ready_list[0] # get ready job w highest priority\n",
    "        \n",
    "        S.append(current_job) # add current job to schedule\n",
    "        \n",
    "        current_job[DURATION] = current_job[DURATION] - 1 # update current job \n",
    "        \n",
    "        if current_job[DURATION] == 0:\n",
    "            \n",
    "        \n",
    "        \n",
    "        \n",
    "        \n",
    "    \n",
    "        \n",
    "        \n",
    "        \n",
    "        \n",
    "    "
   ]
  },
  {
   "cell_type": "code",
   "execution_count": 179,
   "id": "da25e656",
   "metadata": {},
   "outputs": [
    {
     "name": "stdout",
     "output_type": "stream",
     "text": [
      "[['tTT0', 5, 4000, 'TT', 7, 4000], ['tTT1', 4, 2000, 'TT', 7, 2000], ['tTT2', 4, 3000, 'TT', 7, 3000], ['tTT3', 13, 4000, 'TT', 7, 4000], ['tTT4', 22, 3000, 'TT', 7, 3000], ['tTT5', 15, 3000, 'TT', 7, 3000], ['tTT6', 3, 2000, 'TT', 7, 2000], ['tTT7', 9, 3000, 'TT', 7, 3000], ['tTT8', 2, 2000, 'TT', 7, 2000], ['tTT9', 1, 2000, 'TT', 7, 2000], ['tTT10', 4, 3000, 'TT', 7, 3000], ['tTT11', 25, 3000, 'TT', 7, 3000], ['tTT12', 10, 3000, 'TT', 7, 3000], ['tTT13', 16, 3000, 'TT', 7, 3000], ['tTT14', 11, 2000, 'TT', 7, 2000], ['tTT15', 3, 2000, 'TT', 7, 2000], ['tTT16', 3, 3000, 'TT', 7, 3000], ['tTT17', 34, 4000, 'TT', 7, 4000], ['tTT18', 13, 4000, 'TT', 7, 4000], ['tTT19', 16, 4000, 'TT', 7, 4000], ['tTT20', 11, 4000, 'TT', 7, 4000], ['tTT21', 8, 4000, 'TT', 7, 4000], ['tTT22', 6, 2000, 'TT', 7, 2000], ['tTT23', 22, 3000, 'TT', 7, 3000], ['tTT24', 30, 3000, 'TT', 7, 3000], ['tTT25', 5, 3000, 'TT', 7, 3000], ['tTT26', 1, 4000, 'TT', 7, 4000], ['tTT27', 2, 2000, 'TT', 7, 2000], ['tTT28', 19, 4000, 'TT', 7, 4000], ['tTT29', 13, 4000, 'TT', 7, 4000]]\n",
      "[['tTT1', 4, 2000, 'TT', 7, 2000], ['tTT6', 3, 2000, 'TT', 7, 2000], ['tTT8', 2, 2000, 'TT', 7, 2000], ['tTT9', 1, 2000, 'TT', 7, 2000], ['tTT14', 11, 2000, 'TT', 7, 2000], ['tTT15', 3, 2000, 'TT', 7, 2000], ['tTT22', 6, 2000, 'TT', 7, 2000], ['tTT27', 2, 2000, 'TT', 7, 2000], ['tTT2', 4, 3000, 'TT', 7, 3000], ['tTT4', 22, 3000, 'TT', 7, 3000], ['tTT5', 15, 3000, 'TT', 7, 3000], ['tTT7', 9, 3000, 'TT', 7, 3000], ['tTT10', 4, 3000, 'TT', 7, 3000], ['tTT11', 25, 3000, 'TT', 7, 3000], ['tTT12', 10, 3000, 'TT', 7, 3000], ['tTT13', 16, 3000, 'TT', 7, 3000], ['tTT16', 3, 3000, 'TT', 7, 3000], ['tTT23', 22, 3000, 'TT', 7, 3000], ['tTT24', 30, 3000, 'TT', 7, 3000], ['tTT25', 5, 3000, 'TT', 7, 3000], ['tTT0', 5, 4000, 'TT', 7, 4000], ['tTT3', 13, 4000, 'TT', 7, 4000], ['tTT17', 34, 4000, 'TT', 7, 4000], ['tTT18', 13, 4000, 'TT', 7, 4000], ['tTT19', 16, 4000, 'TT', 7, 4000], ['tTT20', 11, 4000, 'TT', 7, 4000], ['tTT21', 8, 4000, 'TT', 7, 4000], ['tTT26', 1, 4000, 'TT', 7, 4000], ['tTT28', 19, 4000, 'TT', 7, 4000], ['tTT29', 13, 4000, 'TT', 7, 4000]]\n"
     ]
    }
   ],
   "source": [
    "edf(ts1)"
   ]
  },
  {
   "cell_type": "code",
   "execution_count": 144,
   "id": "135c813b",
   "metadata": {},
   "outputs": [
    {
     "data": {
      "text/plain": [
       "100"
      ]
     },
     "execution_count": 144,
     "metadata": {},
     "output_type": "execute_result"
    }
   ],
   "source": [
    "math.lcm(*[25,100,50])"
   ]
  },
  {
   "cell_type": "code",
   "execution_count": 110,
   "id": "9097edbf",
   "metadata": {},
   "outputs": [],
   "source": [
    "l = [t[DURATION] for t in ts1]"
   ]
  },
  {
   "cell_type": "code",
   "execution_count": 111,
   "id": "1827674b",
   "metadata": {},
   "outputs": [],
   "source": [
    "microtick = 10"
   ]
  },
  {
   "cell_type": "code",
   "execution_count": 112,
   "id": "3d3325cc",
   "metadata": {},
   "outputs": [
    {
     "data": {
      "text/plain": [
       "166280400"
      ]
     },
     "execution_count": 112,
     "metadata": {},
     "output_type": "execute_result"
    }
   ],
   "source": [
    "math.lcm(*l)"
   ]
  },
  {
   "cell_type": "code",
   "execution_count": 102,
   "id": "69e53d74",
   "metadata": {},
   "outputs": [
    {
     "data": {
      "text/plain": [
       "[(1, 23, 4), (1, 16, 4), (1, 0, 4)]"
      ]
     },
     "execution_count": 102,
     "metadata": {},
     "output_type": "execute_result"
    }
   ],
   "source": [
    "l = [(1,23,4), (1,16,4), (1,0,4)]\n",
    "l"
   ]
  },
  {
   "cell_type": "code",
   "execution_count": 103,
   "id": "377f08db",
   "metadata": {},
   "outputs": [],
   "source": [
    "l.sort(key=itemgetter(1))"
   ]
  },
  {
   "cell_type": "code",
   "execution_count": 104,
   "id": "21622793",
   "metadata": {},
   "outputs": [
    {
     "data": {
      "text/plain": [
       "[(1, 0, 4), (1, 16, 4), (1, 23, 4)]"
      ]
     },
     "execution_count": 104,
     "metadata": {},
     "output_type": "execute_result"
    }
   ],
   "source": [
    "l"
   ]
  },
  {
   "cell_type": "code",
   "execution_count": 106,
   "id": "f1817b92",
   "metadata": {},
   "outputs": [
    {
     "data": {
      "text/plain": [
       "[0, 123, 423, 2342, 2432]"
      ]
     },
     "execution_count": 106,
     "metadata": {},
     "output_type": "execute_result"
    }
   ],
   "source": [
    "l1 = [2432,2342,123,423,0]\n",
    "l1.sort()\n",
    "l1"
   ]
  },
  {
   "cell_type": "code",
   "execution_count": 118,
   "id": "8120e09e",
   "metadata": {},
   "outputs": [
    {
     "data": {
      "text/plain": [
       "0"
      ]
     },
     "execution_count": 118,
     "metadata": {},
     "output_type": "execute_result"
    }
   ],
   "source": [
    "0 % 400"
   ]
  },
  {
   "cell_type": "code",
   "execution_count": 157,
   "id": "b15d6939",
   "metadata": {},
   "outputs": [
    {
     "data": {
      "text/plain": [
       "[('tTT0', 5, 4000, 'TT', 7, 4000),\n",
       " ('tTT1', 4, 2000, 'TT', 7, 2000),\n",
       " ('tTT2', 4, 3000, 'TT', 7, 3000),\n",
       " ('tTT3', 13, 4000, 'TT', 7, 4000),\n",
       " ('tTT4', 22, 3000, 'TT', 7, 3000),\n",
       " ('tTT5', 15, 3000, 'TT', 7, 3000),\n",
       " ('tTT6', 3, 2000, 'TT', 7, 2000),\n",
       " ('tTT7', 9, 3000, 'TT', 7, 3000),\n",
       " ('tTT8', 2, 2000, 'TT', 7, 2000),\n",
       " ('tTT9', 1, 2000, 'TT', 7, 2000),\n",
       " ('tTT10', 4, 3000, 'TT', 7, 3000),\n",
       " ('tTT11', 25, 3000, 'TT', 7, 3000),\n",
       " ('tTT12', 10, 3000, 'TT', 7, 3000),\n",
       " ('tTT13', 16, 3000, 'TT', 7, 3000),\n",
       " ('tTT14', 11, 2000, 'TT', 7, 2000),\n",
       " ('tTT15', 3, 2000, 'TT', 7, 2000),\n",
       " ('tTT16', 3, 3000, 'TT', 7, 3000),\n",
       " ('tTT17', 34, 4000, 'TT', 7, 4000),\n",
       " ('tTT18', 13, 4000, 'TT', 7, 4000),\n",
       " ('tTT19', 16, 4000, 'TT', 7, 4000),\n",
       " ('tTT20', 11, 4000, 'TT', 7, 4000),\n",
       " ('tTT21', 8, 4000, 'TT', 7, 4000),\n",
       " ('tTT22', 6, 2000, 'TT', 7, 2000),\n",
       " ('tTT23', 22, 3000, 'TT', 7, 3000),\n",
       " ('tTT24', 30, 3000, 'TT', 7, 3000),\n",
       " ('tTT25', 5, 3000, 'TT', 7, 3000),\n",
       " ('tTT26', 1, 4000, 'TT', 7, 4000),\n",
       " ('tTT27', 2, 2000, 'TT', 7, 2000),\n",
       " ('tTT28', 19, 4000, 'TT', 7, 4000),\n",
       " ('tTT29', 13, 4000, 'TT', 7, 4000)]"
      ]
     },
     "execution_count": 157,
     "metadata": {},
     "output_type": "execute_result"
    }
   ],
   "source": [
    "l1 = [2432,2342,123,423,0]\n",
    "def ting():\n",
    "    return [213,3243,0,21,4000000]\n",
    "\n",
    "ting()\n",
    "ts1"
   ]
  },
  {
   "cell_type": "code",
   "execution_count": 158,
   "id": "3947e17e",
   "metadata": {},
   "outputs": [],
   "source": [
    "tll = get_ready(ts1, 0)"
   ]
  },
  {
   "cell_type": "code",
   "execution_count": 159,
   "id": "333274e1",
   "metadata": {},
   "outputs": [
    {
     "data": {
      "text/plain": [
       "[('tTT1', 4, 2000, 'TT', 7, 2000),\n",
       " ('tTT6', 3, 2000, 'TT', 7, 2000),\n",
       " ('tTT8', 2, 2000, 'TT', 7, 2000),\n",
       " ('tTT9', 1, 2000, 'TT', 7, 2000),\n",
       " ('tTT14', 11, 2000, 'TT', 7, 2000),\n",
       " ('tTT15', 3, 2000, 'TT', 7, 2000),\n",
       " ('tTT22', 6, 2000, 'TT', 7, 2000),\n",
       " ('tTT27', 2, 2000, 'TT', 7, 2000),\n",
       " ('tTT2', 4, 3000, 'TT', 7, 3000),\n",
       " ('tTT4', 22, 3000, 'TT', 7, 3000),\n",
       " ('tTT5', 15, 3000, 'TT', 7, 3000),\n",
       " ('tTT7', 9, 3000, 'TT', 7, 3000),\n",
       " ('tTT10', 4, 3000, 'TT', 7, 3000),\n",
       " ('tTT11', 25, 3000, 'TT', 7, 3000),\n",
       " ('tTT12', 10, 3000, 'TT', 7, 3000),\n",
       " ('tTT13', 16, 3000, 'TT', 7, 3000),\n",
       " ('tTT16', 3, 3000, 'TT', 7, 3000),\n",
       " ('tTT23', 22, 3000, 'TT', 7, 3000),\n",
       " ('tTT24', 30, 3000, 'TT', 7, 3000),\n",
       " ('tTT25', 5, 3000, 'TT', 7, 3000),\n",
       " ('tTT0', 5, 4000, 'TT', 7, 4000),\n",
       " ('tTT3', 13, 4000, 'TT', 7, 4000),\n",
       " ('tTT17', 34, 4000, 'TT', 7, 4000),\n",
       " ('tTT18', 13, 4000, 'TT', 7, 4000),\n",
       " ('tTT19', 16, 4000, 'TT', 7, 4000),\n",
       " ('tTT20', 11, 4000, 'TT', 7, 4000),\n",
       " ('tTT21', 8, 4000, 'TT', 7, 4000),\n",
       " ('tTT26', 1, 4000, 'TT', 7, 4000),\n",
       " ('tTT28', 19, 4000, 'TT', 7, 4000),\n",
       " ('tTT29', 13, 4000, 'TT', 7, 4000)]"
      ]
     },
     "execution_count": 159,
     "metadata": {},
     "output_type": "execute_result"
    }
   ],
   "source": [
    "tll"
   ]
  },
  {
   "cell_type": "code",
   "execution_count": 171,
   "id": "80051580",
   "metadata": {},
   "outputs": [
    {
     "data": {
      "text/plain": [
       "[(1, 23, 4), (1, 16, 4), (1, 0, 4)]"
      ]
     },
     "execution_count": 171,
     "metadata": {},
     "output_type": "execute_result"
    }
   ],
   "source": [
    "l = [(1,23,4), (1,16,4), (1,0,4)]\n",
    "l"
   ]
  },
  {
   "cell_type": "code",
   "execution_count": 172,
   "id": "d30db23b",
   "metadata": {},
   "outputs": [
    {
     "ename": "TypeError",
     "evalue": "'tuple' object does not support item assignment",
     "output_type": "error",
     "traceback": [
      "\u001b[0;31m---------------------------------------------------------------------------\u001b[0m",
      "\u001b[0;31mTypeError\u001b[0m                                 Traceback (most recent call last)",
      "Input \u001b[0;32mIn [172]\u001b[0m, in \u001b[0;36m<cell line: 1>\u001b[0;34m()\u001b[0m\n\u001b[0;32m----> 1\u001b[0m l[\u001b[38;5;241m0\u001b[39m][\u001b[38;5;241m1\u001b[39m] \u001b[38;5;241m=\u001b[39m \u001b[38;5;241m25\u001b[39m\n",
      "\u001b[0;31mTypeError\u001b[0m: 'tuple' object does not support item assignment"
     ]
    }
   ],
   "source": [
    "l[0][1] = "
   ]
  },
  {
   "cell_type": "code",
   "execution_count": null,
   "id": "f2a55649",
   "metadata": {},
   "outputs": [],
   "source": []
  }
 ],
 "metadata": {
  "kernelspec": {
   "display_name": "Python 3 (ipykernel)",
   "language": "python",
   "name": "python3"
  },
  "language_info": {
   "codemirror_mode": {
    "name": "ipython",
    "version": 3
   },
   "file_extension": ".py",
   "mimetype": "text/x-python",
   "name": "python",
   "nbconvert_exporter": "python",
   "pygments_lexer": "ipython3",
   "version": "3.9.12"
  }
 },
 "nbformat": 4,
 "nbformat_minor": 5
}
